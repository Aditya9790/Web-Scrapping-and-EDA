{
  "nbformat": 4,
  "nbformat_minor": 0,
  "metadata": {
    "colab": {
      "name": "Web Scraping.ipynb",
      "provenance": [],
      "collapsed_sections": [
        "wCiYnCLdh8F8",
        "TmlmVb6T4_qz",
        "hftuIhk1nHnS",
        "fa2TwCtU6rxv"
      ],
      "authorship_tag": "ABX9TyPc/oOiCaD2i+HGRr3GXhSb"
    },
    "kernelspec": {
      "name": "python3",
      "display_name": "Python 3"
    },
    "language_info": {
      "name": "python"
    }
  },
  "cells": [
    {
      "cell_type": "markdown",
      "source": [
        "# Scraping using Geocoding API of OpenStreet Maps(OSM)<br>\n",
        "We will find address using web scrapping and using python"
      ],
      "metadata": {
        "id": "wCiYnCLdh8F8"
      }
    },
    {
      "cell_type": "code",
      "execution_count": null,
      "metadata": {
        "id": "2H_rY3r0f13R"
      },
      "outputs": [],
      "source": [
        "# import nominatim api\n",
        "from geopy.geocoders import Nominatim"
      ]
    },
    {
      "cell_type": "code",
      "source": [
        "# activate nominatim geocoder\n",
        "locator = Nominatim(user_agent = \"http\")\n",
        "# type any address\n",
        "location = locator.geocode(\"Sree Padmanabhaswamy Temple\")"
      ],
      "metadata": {
        "id": "qf1J_dN8ip1X"
      },
      "execution_count": null,
      "outputs": []
    },
    {
      "cell_type": "code",
      "source": [
        "# get the latitide and longitude of the place\n",
        "print(f'Address : {location.address}')\n",
        "print(f'Latitude : {location.latitude}\\nLongitude : {location.longitude}')"
      ],
      "metadata": {
        "colab": {
          "base_uri": "https://localhost:8080/"
        },
        "id": "vOeyh6xXjocm",
        "outputId": "d1e26fd4-5ebc-4494-c26f-62c3534091bc"
      },
      "execution_count": null,
      "outputs": [
        {
          "output_type": "stream",
          "name": "stdout",
          "text": [
            "Address : Sree Padmanabhaswamy Temple, Padmavilasam Road, Padmanagar, Fort, Thiruvananthapuram, Kerala, 695001, India\n",
            "Latitude : 8.482769950000002\n",
            "Longitude : 76.94370162822179\n"
          ]
        }
      ]
    },
    {
      "cell_type": "code",
      "source": [
        "# print all the information about ebtered address thtat the API has to offer\n",
        "location.raw"
      ],
      "metadata": {
        "colab": {
          "base_uri": "https://localhost:8080/"
        },
        "id": "WQf7-nvklLzO",
        "outputId": "1e449804-9ec9-4f17-f228-543d0e2d22cc"
      },
      "execution_count": null,
      "outputs": [
        {
          "output_type": "execute_result",
          "data": {
            "text/plain": [
              "{'boundingbox': ['8.482634', '8.4828919', '76.9434819', '76.9439228'],\n",
              " 'class': 'amenity',\n",
              " 'display_name': 'Sree Padmanabhaswamy Temple, Padmavilasam Road, Padmanagar, Fort, Thiruvananthapuram, Kerala, 695001, India',\n",
              " 'icon': 'https://nominatim.openstreetmap.org/ui/mapicons//place_of_worship_unknown3.p.20.png',\n",
              " 'importance': 0.30100000000000005,\n",
              " 'lat': '8.482769950000002',\n",
              " 'licence': 'Data © OpenStreetMap contributors, ODbL 1.0. https://osm.org/copyright',\n",
              " 'lon': '76.94370162822179',\n",
              " 'osm_id': 480106233,\n",
              " 'osm_type': 'way',\n",
              " 'place_id': 207630336,\n",
              " 'type': 'place_of_worship'}"
            ]
          },
          "metadata": {},
          "execution_count": 4
        }
      ]
    },
    {
      "cell_type": "code",
      "source": [
        "# location 2\n",
        "my_college = locator.geocode(\"COllege Of Engineering Pune\")\n",
        "# get the latitide and longitude of the place\n",
        "print(f'Address : {my_college.address}')\n",
        "print(f'Latitude : {my_college.latitude}\\nLongitude : {my_college.longitude}')"
      ],
      "metadata": {
        "colab": {
          "base_uri": "https://localhost:8080/"
        },
        "id": "XahAzY1mmksq",
        "outputId": "1f9bc8fb-3db2-4a82-f51a-e27bb3b4475b"
      },
      "execution_count": null,
      "outputs": [
        {
          "output_type": "stream",
          "name": "stdout",
          "text": [
            "Address : College of Engineering, Pune, Old Pune–Mumbai Highway, Shivajinagar, Pune City, Pune District, Maharashtra, 411001, India\n",
            "Latitude : 18.52930005\n",
            "Longitude : 73.85682537025511\n"
          ]
        }
      ]
    },
    {
      "cell_type": "code",
      "source": [
        "my_college.raw"
      ],
      "metadata": {
        "colab": {
          "base_uri": "https://localhost:8080/"
        },
        "id": "Insq7BgpoFuw",
        "outputId": "6013f6bf-0bb8-4638-9ab2-a97af0d310d5"
      },
      "execution_count": null,
      "outputs": [
        {
          "output_type": "execute_result",
          "data": {
            "text/plain": [
              "{'boundingbox': ['18.5285846', '18.5315557', '73.8545636', '73.8586755'],\n",
              " 'class': 'amenity',\n",
              " 'display_name': 'College of Engineering, Pune, Old Pune–Mumbai Highway, Shivajinagar, Pune City, Pune District, Maharashtra, 411001, India',\n",
              " 'icon': 'https://nominatim.openstreetmap.org/ui/mapicons//education_school.p.20.png',\n",
              " 'importance': 0.7813885782638657,\n",
              " 'lat': '18.52930005',\n",
              " 'licence': 'Data © OpenStreetMap contributors, ODbL 1.0. https://osm.org/copyright',\n",
              " 'lon': '73.85682537025511',\n",
              " 'osm_id': 3718263,\n",
              " 'osm_type': 'relation',\n",
              " 'place_id': 282449018,\n",
              " 'type': 'college'}"
            ]
          },
          "metadata": {},
          "execution_count": 6
        }
      ]
    },
    {
      "cell_type": "code",
      "source": [
        ""
      ],
      "metadata": {
        "id": "ZbgvbibboVFx"
      },
      "execution_count": null,
      "outputs": []
    },
    {
      "cell_type": "markdown",
      "source": [
        "# Get the data - BBC Weather location service<br>\n",
        "We will scrape the location ID of any place that we enter."
      ],
      "metadata": {
        "id": "UBinE920q7_X"
      }
    },
    {
      "cell_type": "code",
      "source": [
        "import os\n",
        "\n",
        "import requests # get request from webpage\n",
        "import json # convert API to json format\n",
        "\n",
        "from urllib.parse import urlencode\n",
        "import numpy as np\n",
        "import pandas as pd\n",
        "import re\n",
        "from datetime import datetime\n",
        "\n",
        "from bs4 import BeautifulSoup as bs"
      ],
      "metadata": {
        "id": "MZdh39f_rAJq"
      },
      "execution_count": null,
      "outputs": []
    },
    {
      "cell_type": "code",
      "source": [
        "# Enter city name and convert url into compact form\n",
        "city_name = \"Pune\"\n",
        "location_url = 'https://locator-service.api.bbci.co.uk/locations?' + urlencode({'api_key': 'AGbFAKx58hyjQScCXIYrxuEwJh2W2cmv',\n",
        "    'stack': 'aws',\n",
        "    'locale': 'en',\n",
        "    'filter': 'international',\n",
        "    'place-types': 'settlement,airport,district',\n",
        "    'order': 'importance',\n",
        "    's': city_name.lower(),\n",
        "    'a': 'true',\n",
        "    'format': 'json'})\n",
        "location_url"
      ],
      "metadata": {
        "colab": {
          "base_uri": "https://localhost:8080/",
          "height": 70
        },
        "id": "I57MuwODwkD0",
        "outputId": "c2e1e445-cd17-4c83-c349-e067b2385aff"
      },
      "execution_count": null,
      "outputs": [
        {
          "output_type": "execute_result",
          "data": {
            "application/vnd.google.colaboratory.intrinsic+json": {
              "type": "string"
            },
            "text/plain": [
              "'https://locator-service.api.bbci.co.uk/locations?api_key=AGbFAKx58hyjQScCXIYrxuEwJh2W2cmv&stack=aws&locale=en&filter=international&place-types=settlement%2Cairport%2Cdistrict&order=importance&s=pune&a=true&format=json'"
            ]
          },
          "metadata": {},
          "execution_count": 8
        }
      ]
    },
    {
      "cell_type": "code",
      "source": [
        "# convert url into json format\n",
        "result_json = requests.get(location_url).json()\n",
        "result_json"
      ],
      "metadata": {
        "colab": {
          "base_uri": "https://localhost:8080/"
        },
        "id": "EeQ0oAwuzAWb",
        "outputId": "08c735e0-4d76-4de5-dd8d-1f6ab29d4988"
      },
      "execution_count": null,
      "outputs": [
        {
          "output_type": "execute_result",
          "data": {
            "text/plain": [
              "{'response': {'results': {'results': [{'container': 'India',\n",
              "     'containerId': 1269750,\n",
              "     'country': 'IN',\n",
              "     'id': '1259229',\n",
              "     'language': 'en',\n",
              "     'latitude': 18.51957,\n",
              "     'longitude': 73.85535,\n",
              "     'name': 'Pune',\n",
              "     'placeType': 'settlement',\n",
              "     'timezone': 'Asia/Kolkata'},\n",
              "    {'container': 'India',\n",
              "     'containerId': 1269750,\n",
              "     'country': 'IN',\n",
              "     'id': '6452628',\n",
              "     'language': 'en',\n",
              "     'latitude': 18.58223,\n",
              "     'longitude': 73.91988,\n",
              "     'name': 'Pune Airport',\n",
              "     'placeType': 'airport',\n",
              "     'timezone': 'Asia/Kolkata'}],\n",
              "   'totalResults': 2}}}"
            ]
          },
          "metadata": {},
          "execution_count": 9
        }
      ]
    },
    {
      "cell_type": "code",
      "source": [
        "# we will get id from the results dictionary\n",
        "result_json['response']['results']['results'][0]['id']"
      ],
      "metadata": {
        "colab": {
          "base_uri": "https://localhost:8080/",
          "height": 35
        },
        "id": "gw19BlZ6zU7I",
        "outputId": "09f182eb-f2ef-46cd-8238-9cab25406817"
      },
      "execution_count": null,
      "outputs": [
        {
          "output_type": "execute_result",
          "data": {
            "application/vnd.google.colaboratory.intrinsic+json": {
              "type": "string"
            },
            "text/plain": [
              "'1259229'"
            ]
          },
          "metadata": {},
          "execution_count": 10
        }
      ]
    },
    {
      "cell_type": "code",
      "source": [
        "# create a function to get the id\n",
        "def get_id(city):\n",
        "    city = city.lower()\n",
        "    location_url = 'https://locator-service.api.bbci.co.uk/locations?' + urlencode({'api_key': 'AGbFAKx58hyjQScCXIYrxuEwJh2W2cmv',\n",
        "    'stack': 'aws',\n",
        "    'locale': 'en',\n",
        "    'filter': 'international',\n",
        "    'place-types': 'settlement,airport,district',\n",
        "    'order': 'importance',\n",
        "    's': city,\n",
        "    'a': 'true',\n",
        "    'format': 'json'})\n",
        "    city_url_json = requests.get(location_url).json()\n",
        "    city_id = city_url_json['response']['results']['results'][0]['id']\n",
        "    return city_id\n",
        "city = \"New Delhi\"\n",
        "city_id = get_id(city)\n",
        "print(city_id)"
      ],
      "metadata": {
        "colab": {
          "base_uri": "https://localhost:8080/"
        },
        "id": "wj0oc3u96QeW",
        "outputId": "86487361-5ded-4c99-a0d8-f549c52cc838"
      },
      "execution_count": null,
      "outputs": [
        {
          "output_type": "stream",
          "name": "stdout",
          "text": [
            "1261481\n"
          ]
        }
      ]
    },
    {
      "cell_type": "code",
      "source": [
        "# get the url from which we are going to scrape data\n",
        "\n",
        "url = 'https://www.bbc.com/weather/' + city_id\n",
        "#print(url)\n",
        "response = requests.get(url)"
      ],
      "metadata": {
        "id": "ytDuy168y3gW"
      },
      "execution_count": null,
      "outputs": []
    },
    {
      "cell_type": "markdown",
      "source": [
        "Initiate Beautiful Soup"
      ],
      "metadata": {
        "id": "0-cHEMAhz41N"
      }
    },
    {
      "cell_type": "code",
      "source": [
        "soup = bs(response.content, 'html.parser')\n",
        "daily_high_values = soup.find_all(class_ = 'wr-day-temperature__high-value')\n",
        "daily_low_values =  soup.find_all(class_ = 'wr-day-temperature__low-value')\n",
        "\n",
        "# get gaily high temperature values\n",
        "daily_high = []\n",
        "for row in daily_high_values:\n",
        "    high = row.span.text\n",
        "    daily_high.append(high)\n",
        "print(f'Daily High temperature is: {daily_high}')\n",
        "\n",
        "# get daily low temperature values\n",
        "daily_low = []\n",
        "for row in daily_low_values:\n",
        "    low = row.span.text\n",
        "    daily_low.append(low)\n",
        "print(f'Daily Low temperature is: {daily_low}')"
      ],
      "metadata": {
        "colab": {
          "base_uri": "https://localhost:8080/"
        },
        "id": "jJ8fjqXUz8v9",
        "outputId": "1f53674a-7ecd-4d3e-e89d-358a602ffb47"
      },
      "execution_count": null,
      "outputs": [
        {
          "output_type": "stream",
          "name": "stdout",
          "text": [
            "Daily High temperature is: ['16° 60°', '18° 64°', '18° 64°', '19° 65°', '20° 68°', '19° 66°', '19° 67°', '19° 66°', '20° 68°', '21° 69°', '21° 70°', '20° 69°', '20° 67°', '20° 68°']\n",
            "Daily Low temperature is: ['5° 42°', '7° 44°', '7° 45°', '7° 45°', '7° 45°', '6° 43°', '7° 44°', '7° 44°', '8° 46°', '9° 49°', '9° 48°', '8° 46°', '7° 45°', '8° 46°']\n"
          ]
        }
      ]
    },
    {
      "cell_type": "code",
      "source": [
        "daily_high[0].strip().split()[0]"
      ],
      "metadata": {
        "colab": {
          "base_uri": "https://localhost:8080/",
          "height": 35
        },
        "id": "LtQjQn4f-jWs",
        "outputId": "a2b3d549-91fe-4617-a5e0-9c4ae6f1c7aa"
      },
      "execution_count": null,
      "outputs": [
        {
          "output_type": "execute_result",
          "data": {
            "application/vnd.google.colaboratory.intrinsic+json": {
              "type": "string"
            },
            "text/plain": [
              "'16°'"
            ]
          },
          "metadata": {},
          "execution_count": 14
        }
      ]
    },
    {
      "cell_type": "code",
      "source": [
        "daily_high = [i.strip().split()[0] for i in daily_high]\n",
        "print(f'Daily High temperature(°C) is: {daily_high}')\n",
        "\n",
        "daily_low = [i.strip().split()[0] for i in daily_low]\n",
        "print(f'Daily Low temperature(°C) is: {daily_low}')"
      ],
      "metadata": {
        "colab": {
          "base_uri": "https://localhost:8080/"
        },
        "id": "AkSWyf8m-3w_",
        "outputId": "80160f85-e37f-49c2-d8f1-8d7142cee543"
      },
      "execution_count": null,
      "outputs": [
        {
          "output_type": "stream",
          "name": "stdout",
          "text": [
            "Daily High temperature(°C) is: ['16°', '18°', '18°', '19°', '20°', '19°', '19°', '19°', '20°', '21°', '21°', '20°', '20°', '20°']\n",
            "Daily Low temperature(°C) is: ['5°', '7°', '7°', '7°', '7°', '6°', '7°', '7°', '8°', '9°', '9°', '8°', '7°', '8°']\n"
          ]
        }
      ]
    },
    {
      "cell_type": "code",
      "source": [
        "# find summary\n",
        "daily_summary = soup.find('div', attrs={'class' : 'wr-day-summary'})\n",
        "daily_summary.text"
      ],
      "metadata": {
        "id": "ER8jG5sz65fl",
        "colab": {
          "base_uri": "https://localhost:8080/",
          "height": 105
        },
        "outputId": "f80c7afa-e091-4477-94b7-42c4cd6beb4a"
      },
      "execution_count": null,
      "outputs": [
        {
          "output_type": "execute_result",
          "data": {
            "application/vnd.google.colaboratory.intrinsic+json": {
              "type": "string"
            },
            "text/plain": [
              "'Sunny and light windsSunny and light windsSunny and light windsSunny and light windsSunny and light windsSunny and light windsSunny intervals and light windsSunny intervals and light windsSunny intervals and light windsSunny intervals and light windsSunny intervals and light windsSunny intervals and light windsSunny and light windsSunny and light winds'"
            ]
          },
          "metadata": {},
          "execution_count": 16
        }
      ]
    },
    {
      "cell_type": "code",
      "source": [
        "# print(type(summary))\n",
        "temp = \"\"\n",
        "# for i in range(summary):\n",
        "#     if "
      ],
      "metadata": {
        "id": "qseXzmi_8Laf"
      },
      "execution_count": null,
      "outputs": []
    },
    {
      "cell_type": "markdown",
      "source": [
        "# Scrapping IMDB Data<br>\n",
        "We will represent 250 list of movies in a tabular form using python.<br> We will use BeautifulSoup library to scrape data from web.\n"
      ],
      "metadata": {
        "id": "TmlmVb6T4_qz"
      }
    },
    {
      "cell_type": "code",
      "source": [
        "from bs4 import BeautifulSoup as bs"
      ],
      "metadata": {
        "id": "ue-F1Tby7F5a"
      },
      "execution_count": null,
      "outputs": []
    },
    {
      "cell_type": "code",
      "source": [
        "req = requests.get(\"https://www.imdb.com/chart/top/\")\n",
        "\n",
        "# convert to a beautiful soup object\n",
        "soup = bs(req.content)\n",
        "\n",
        "# Print out HTML\n",
        "\n",
        "contents = soup.prettify() # adds indentation to the data\n",
        "print(contents)"
      ],
      "metadata": {
        "id": "66X-uC5V5b2t"
      },
      "execution_count": null,
      "outputs": []
    },
    {
      "cell_type": "code",
      "source": [
        "movie_title = []\n",
        "movie_year = []\n",
        "movie_rating = []"
      ],
      "metadata": {
        "id": "Rb8bJjsg6lTe"
      },
      "execution_count": null,
      "outputs": []
    },
    {
      "cell_type": "markdown",
      "source": [
        "Extract HTML Tag contents"
      ],
      "metadata": {
        "id": "z3VbzkQETzKb"
      }
    },
    {
      "cell_type": "code",
      "source": [
        "# The movie name and year are nested under the parent class \"chart full_width\"\n",
        "imdb_table = soup.find(class_ = \"chart full-width\")"
      ],
      "metadata": {
        "id": "C0XVjFB_TxK5"
      },
      "execution_count": null,
      "outputs": []
    },
    {
      "cell_type": "code",
      "source": [
        "# tag for name of movie\n",
        "movie_title_column = imdb_table.find_all(class_ = \"titleColumn\")\n",
        "#print(movie_title_column)"
      ],
      "metadata": {
        "id": "k5ZhkoGPUjMf"
      },
      "execution_count": null,
      "outputs": []
    },
    {
      "cell_type": "code",
      "source": [
        "# tag for IMDB rating of movie\n",
        "movie_rating_columns = imdb_table.find_all(class_ = \"ratingColumn imdbRating\")"
      ],
      "metadata": {
        "id": "wkagnfmZVQxc"
      },
      "execution_count": null,
      "outputs": []
    },
    {
      "cell_type": "code",
      "source": [
        "# Extract the titles of movies from movie_title_column\n",
        "for row in movie_title_column:\n",
        "    title = row.a.text # extract the text from tag \"a\"\n",
        "    movie_title.append(title)\n",
        "#movie_title = list(movie_title)\n",
        "len(movie_title)"
      ],
      "metadata": {
        "colab": {
          "base_uri": "https://localhost:8080/"
        },
        "id": "lgJHt-rIVxsH",
        "outputId": "84df3b7b-d17c-46ae-a9f7-7c5e23c4ad00"
      },
      "execution_count": null,
      "outputs": [
        {
          "output_type": "execute_result",
          "data": {
            "text/plain": [
              "250"
            ]
          },
          "metadata": {},
          "execution_count": 25
        }
      ]
    },
    {
      "cell_type": "code",
      "source": [
        "movie_title # Movie"
      ],
      "metadata": {
        "id": "R-KVRWZlXXR8",
        "colab": {
          "base_uri": "https://localhost:8080/"
        },
        "outputId": "0a591ce2-813d-4a7b-85f0-8a6519fca25c"
      },
      "execution_count": null,
      "outputs": [
        {
          "output_type": "execute_result",
          "data": {
            "text/plain": [
              "['The Shawshank Redemption',\n",
              " 'The Godfather',\n",
              " 'The Godfather: Part II',\n",
              " 'The Dark Knight',\n",
              " '12 Angry Men',\n",
              " \"Schindler's List\",\n",
              " 'The Lord of the Rings: The Return of the King',\n",
              " 'Pulp Fiction',\n",
              " 'The Good, the Bad and the Ugly',\n",
              " 'The Lord of the Rings: The Fellowship of the Ring',\n",
              " 'Fight Club',\n",
              " 'Forrest Gump',\n",
              " 'Inception',\n",
              " 'The Lord of the Rings: The Two Towers',\n",
              " 'Star Wars: Episode V - The Empire Strikes Back',\n",
              " 'The Matrix',\n",
              " 'Goodfellas',\n",
              " \"One Flew Over the Cuckoo's Nest\",\n",
              " 'Spider-Man: No Way Home',\n",
              " 'Seven Samurai',\n",
              " 'Se7en',\n",
              " 'The Silence of the Lambs',\n",
              " 'City of God',\n",
              " \"It's a Wonderful Life\",\n",
              " 'Life Is Beautiful',\n",
              " 'Saving Private Ryan',\n",
              " 'Star Wars: Episode IV - A New Hope',\n",
              " 'Interstellar',\n",
              " 'Spirited Away',\n",
              " 'The Green Mile',\n",
              " 'Parasite',\n",
              " 'Léon: The Professional',\n",
              " 'Hara-Kiri',\n",
              " 'The Pianist',\n",
              " 'Terminator 2: Judgment Day',\n",
              " 'Back to the Future',\n",
              " 'The Usual Suspects',\n",
              " 'Psycho',\n",
              " 'The Lion King',\n",
              " 'Modern Times',\n",
              " 'Grave of the Fireflies',\n",
              " 'American History X',\n",
              " 'Whiplash',\n",
              " 'Gladiator',\n",
              " 'City Lights',\n",
              " 'The Departed',\n",
              " 'The Intouchables',\n",
              " 'The Prestige',\n",
              " 'Casablanca',\n",
              " 'Once Upon a Time in the West',\n",
              " 'Rear Window',\n",
              " 'Cinema Paradiso',\n",
              " 'Alien',\n",
              " 'Apocalypse Now',\n",
              " 'Memento',\n",
              " 'Indiana Jones and the Raiders of the Lost Ark',\n",
              " 'The Great Dictator',\n",
              " 'Django Unchained',\n",
              " 'The Lives of Others',\n",
              " 'Paths of Glory',\n",
              " 'Sunset Blvd.',\n",
              " 'WALL·E',\n",
              " 'Avengers: Infinity War',\n",
              " 'Witness for the Prosecution',\n",
              " 'The Shining',\n",
              " 'Spider-Man: Into the Spider-Verse',\n",
              " 'Dr. Strangelove or: How I Learned to Stop Worrying and Love the Bomb',\n",
              " 'Princess Mononoke',\n",
              " 'Oldboy',\n",
              " 'Joker',\n",
              " 'Your Name.',\n",
              " 'Coco',\n",
              " 'The Dark Knight Rises',\n",
              " 'Aliens',\n",
              " 'Once Upon a Time in America',\n",
              " 'Avengers: Endgame',\n",
              " 'Capernaum',\n",
              " 'Das Boot',\n",
              " 'High and Low',\n",
              " '3 Idiots',\n",
              " 'Toy Story',\n",
              " 'Amadeus',\n",
              " 'American Beauty',\n",
              " 'Braveheart',\n",
              " 'Inglourious Basterds',\n",
              " 'Hamilton',\n",
              " 'Good Will Hunting',\n",
              " 'Star Wars: Episode VI - Return of the Jedi',\n",
              " '2001: A Space Odyssey',\n",
              " 'Come and See',\n",
              " 'Reservoir Dogs',\n",
              " 'Like Stars on Earth',\n",
              " 'Vertigo',\n",
              " 'M',\n",
              " 'The Hunt',\n",
              " 'Citizen Kane',\n",
              " 'Requiem for a Dream',\n",
              " \"Singin' in the Rain\",\n",
              " 'North by Northwest',\n",
              " 'Eternal Sunshine of the Spotless Mind',\n",
              " 'Ikiru',\n",
              " 'Bicycle Thieves',\n",
              " 'Lawrence of Arabia',\n",
              " 'The Kid',\n",
              " 'Full Metal Jacket',\n",
              " 'Dangal',\n",
              " 'Incendies',\n",
              " 'The Apartment',\n",
              " 'Double Indemnity',\n",
              " 'Metropolis',\n",
              " 'Taxi Driver',\n",
              " 'A Clockwork Orange',\n",
              " 'The Father',\n",
              " 'A Separation',\n",
              " 'The Sting',\n",
              " 'Scarface',\n",
              " 'Snatch',\n",
              " '1917',\n",
              " 'Amélie',\n",
              " 'To Kill a Mockingbird',\n",
              " 'Toy Story 3',\n",
              " 'Pather Panchali',\n",
              " 'For a Few Dollars More',\n",
              " 'Up',\n",
              " 'Indiana Jones and the Last Crusade',\n",
              " 'Heat',\n",
              " 'L.A. Confidential',\n",
              " 'Yojimbo',\n",
              " 'Ran',\n",
              " 'Die Hard',\n",
              " 'Green Book',\n",
              " 'Rashomon',\n",
              " 'Downfall',\n",
              " 'Monty Python and the Holy Grail',\n",
              " 'All About Eve',\n",
              " 'Some Like It Hot',\n",
              " 'Batman Begins',\n",
              " 'Unforgiven',\n",
              " 'Children of Heaven',\n",
              " 'Jai Bhim',\n",
              " \"Howl's Moving Castle\",\n",
              " 'The Wolf of Wall Street',\n",
              " 'Judgment at Nuremberg',\n",
              " 'There Will Be Blood',\n",
              " 'The Great Escape',\n",
              " 'Casino',\n",
              " 'The Treasure of the Sierra Madre',\n",
              " \"Pan's Labyrinth\",\n",
              " 'A Beautiful Mind',\n",
              " 'The Secret in Their Eyes',\n",
              " 'Raging Bull',\n",
              " 'Chinatown',\n",
              " 'My Neighbor Totoro',\n",
              " 'Shutter Island',\n",
              " 'Lock, Stock and Two Smoking Barrels',\n",
              " 'Dersu Uzala',\n",
              " 'No Country for Old Men',\n",
              " 'Dial M for Murder',\n",
              " 'Klaus',\n",
              " 'The Gold Rush',\n",
              " 'The Thing',\n",
              " 'Three Billboards Outside Ebbing, Missouri',\n",
              " 'The Seventh Seal',\n",
              " 'The Elephant Man',\n",
              " 'The Sixth Sense',\n",
              " 'The Truman Show',\n",
              " 'Jurassic Park',\n",
              " 'Wild Strawberries',\n",
              " 'The Third Man',\n",
              " 'Memories of Murder',\n",
              " 'V for Vendetta',\n",
              " 'Blade Runner',\n",
              " 'Trainspotting',\n",
              " 'Inside Out',\n",
              " 'The Bridge on the River Kwai',\n",
              " 'Fargo',\n",
              " 'Finding Nemo',\n",
              " 'Warrior',\n",
              " 'Kill Bill: Vol. 1',\n",
              " 'Gone with the Wind',\n",
              " 'Tokyo Story',\n",
              " 'On the Waterfront',\n",
              " 'My Father and My Son',\n",
              " 'Wild Tales',\n",
              " 'Dune',\n",
              " 'Prisoners',\n",
              " 'Stalker',\n",
              " 'The Grand Budapest Hotel',\n",
              " 'The Deer Hunter',\n",
              " 'The General',\n",
              " 'Sherlock Jr.',\n",
              " 'Persona',\n",
              " 'Gran Torino',\n",
              " 'Before Sunrise',\n",
              " 'Mary and Max',\n",
              " 'Z',\n",
              " 'Catch Me If You Can',\n",
              " 'Mr. Smith Goes to Washington',\n",
              " 'Barry Lyndon',\n",
              " 'In the Name of the Father',\n",
              " 'Gone Girl',\n",
              " 'Room',\n",
              " 'Hacksaw Ridge',\n",
              " 'The Passion of Joan of Arc',\n",
              " 'Andhadhun',\n",
              " 'Ford v Ferrari',\n",
              " '12 Years a Slave',\n",
              " 'To Be or Not to Be',\n",
              " 'The Big Lebowski',\n",
              " 'Dead Poets Society',\n",
              " 'How to Train Your Dragon',\n",
              " 'Ben-Hur',\n",
              " 'Harry Potter and the Deathly Hallows: Part 2',\n",
              " 'Mad Max: Fury Road',\n",
              " 'Autumn Sonata',\n",
              " 'Million Dollar Baby',\n",
              " 'The Wages of Fear',\n",
              " 'Stand by Me',\n",
              " 'The Handmaiden',\n",
              " 'Network',\n",
              " 'Logan',\n",
              " 'La Haine',\n",
              " 'Cool Hand Luke',\n",
              " \"Hachi: A Dog's Tale\",\n",
              " 'A Silent Voice: The Movie',\n",
              " 'The 400 Blows',\n",
              " 'Gangs of Wasseypur',\n",
              " 'Platoon',\n",
              " 'Spotlight',\n",
              " 'Monsters, Inc.',\n",
              " 'Rebecca',\n",
              " 'Life of Brian',\n",
              " 'In the Mood for Love',\n",
              " 'Hotel Rwanda',\n",
              " 'The Bandit',\n",
              " 'Rush',\n",
              " 'Rocky',\n",
              " 'Amores perros',\n",
              " 'Into the Wild',\n",
              " 'Nausicaä of the Valley of the Wind',\n",
              " 'It Happened One Night',\n",
              " 'Before Sunset',\n",
              " 'Fanny and Alexander',\n",
              " 'Neon Genesis Evangelion: The End of Evangelion',\n",
              " 'Andrei Rublev',\n",
              " 'The Battle of Algiers',\n",
              " 'Nights of Cabiria',\n",
              " 'The Princess Bride',\n",
              " 'Drishyam 2',\n",
              " 'Demon Slayer: Mugen Train']"
            ]
          },
          "metadata": {},
          "execution_count": 26
        }
      ]
    },
    {
      "cell_type": "code",
      "source": [
        "# Extract the year of the movir release\n",
        "for row in movie_title_column:\n",
        "    year = row.span.text # tag for movie year\n",
        "    movie_year.append(year)"
      ],
      "metadata": {
        "id": "d4SRCTBGYVke"
      },
      "execution_count": null,
      "outputs": []
    },
    {
      "cell_type": "code",
      "source": [
        "movie_year # Year"
      ],
      "metadata": {
        "id": "x3x9nLzTZWZT"
      },
      "execution_count": null,
      "outputs": []
    },
    {
      "cell_type": "code",
      "source": [
        "# Extract the imbd rating\n",
        "for row in movie_rating_columns:\n",
        "    rating = row.strong.text # \"strong\" is tag for rating\n",
        "    movie_rating.append(rating)"
      ],
      "metadata": {
        "id": "vJ-Pr2ZRZVzq"
      },
      "execution_count": null,
      "outputs": []
    },
    {
      "cell_type": "code",
      "source": [
        "movie_rating # IMDB"
      ],
      "metadata": {
        "id": "HMB48kj_Z8JU"
      },
      "execution_count": null,
      "outputs": []
    },
    {
      "cell_type": "markdown",
      "source": [
        "Merge all in a single data frame"
      ],
      "metadata": {
        "id": "77TcTDVIaGZN"
      }
    },
    {
      "cell_type": "code",
      "source": [
        "movie_df = pd.DataFrame({\"Movie Name\" : movie_title, \"Year of Release\" : movie_year, \"IMDB Rating\" : movie_rating})\n",
        "movie_df.head(10)"
      ],
      "metadata": {
        "colab": {
          "base_uri": "https://localhost:8080/",
          "height": 363
        },
        "id": "sR3a3abTZ9iz",
        "outputId": "f4d7a5d1-a53e-40f1-a3f8-a8fe55d51c35"
      },
      "execution_count": null,
      "outputs": [
        {
          "output_type": "execute_result",
          "data": {
            "text/html": [
              "\n",
              "  <div id=\"df-ccf1d016-e708-4f0b-95e6-64dcabd414db\">\n",
              "    <div class=\"colab-df-container\">\n",
              "      <div>\n",
              "<style scoped>\n",
              "    .dataframe tbody tr th:only-of-type {\n",
              "        vertical-align: middle;\n",
              "    }\n",
              "\n",
              "    .dataframe tbody tr th {\n",
              "        vertical-align: top;\n",
              "    }\n",
              "\n",
              "    .dataframe thead th {\n",
              "        text-align: right;\n",
              "    }\n",
              "</style>\n",
              "<table border=\"1\" class=\"dataframe\">\n",
              "  <thead>\n",
              "    <tr style=\"text-align: right;\">\n",
              "      <th></th>\n",
              "      <th>Movie Name</th>\n",
              "      <th>Year of Release</th>\n",
              "      <th>IMDB Rating</th>\n",
              "    </tr>\n",
              "  </thead>\n",
              "  <tbody>\n",
              "    <tr>\n",
              "      <th>0</th>\n",
              "      <td>The Shawshank Redemption</td>\n",
              "      <td>(1994)</td>\n",
              "      <td>9.2</td>\n",
              "    </tr>\n",
              "    <tr>\n",
              "      <th>1</th>\n",
              "      <td>The Godfather</td>\n",
              "      <td>(1972)</td>\n",
              "      <td>9.1</td>\n",
              "    </tr>\n",
              "    <tr>\n",
              "      <th>2</th>\n",
              "      <td>The Godfather: Part II</td>\n",
              "      <td>(1974)</td>\n",
              "      <td>9.0</td>\n",
              "    </tr>\n",
              "    <tr>\n",
              "      <th>3</th>\n",
              "      <td>The Dark Knight</td>\n",
              "      <td>(2008)</td>\n",
              "      <td>9.0</td>\n",
              "    </tr>\n",
              "    <tr>\n",
              "      <th>4</th>\n",
              "      <td>12 Angry Men</td>\n",
              "      <td>(1957)</td>\n",
              "      <td>8.9</td>\n",
              "    </tr>\n",
              "    <tr>\n",
              "      <th>5</th>\n",
              "      <td>Schindler's List</td>\n",
              "      <td>(1993)</td>\n",
              "      <td>8.9</td>\n",
              "    </tr>\n",
              "    <tr>\n",
              "      <th>6</th>\n",
              "      <td>The Lord of the Rings: The Return of the King</td>\n",
              "      <td>(2003)</td>\n",
              "      <td>8.9</td>\n",
              "    </tr>\n",
              "    <tr>\n",
              "      <th>7</th>\n",
              "      <td>Pulp Fiction</td>\n",
              "      <td>(1994)</td>\n",
              "      <td>8.8</td>\n",
              "    </tr>\n",
              "    <tr>\n",
              "      <th>8</th>\n",
              "      <td>The Good, the Bad and the Ugly</td>\n",
              "      <td>(1966)</td>\n",
              "      <td>8.8</td>\n",
              "    </tr>\n",
              "    <tr>\n",
              "      <th>9</th>\n",
              "      <td>The Lord of the Rings: The Fellowship of the Ring</td>\n",
              "      <td>(2001)</td>\n",
              "      <td>8.8</td>\n",
              "    </tr>\n",
              "  </tbody>\n",
              "</table>\n",
              "</div>\n",
              "      <button class=\"colab-df-convert\" onclick=\"convertToInteractive('df-ccf1d016-e708-4f0b-95e6-64dcabd414db')\"\n",
              "              title=\"Convert this dataframe to an interactive table.\"\n",
              "              style=\"display:none;\">\n",
              "        \n",
              "  <svg xmlns=\"http://www.w3.org/2000/svg\" height=\"24px\"viewBox=\"0 0 24 24\"\n",
              "       width=\"24px\">\n",
              "    <path d=\"M0 0h24v24H0V0z\" fill=\"none\"/>\n",
              "    <path d=\"M18.56 5.44l.94 2.06.94-2.06 2.06-.94-2.06-.94-.94-2.06-.94 2.06-2.06.94zm-11 1L8.5 8.5l.94-2.06 2.06-.94-2.06-.94L8.5 2.5l-.94 2.06-2.06.94zm10 10l.94 2.06.94-2.06 2.06-.94-2.06-.94-.94-2.06-.94 2.06-2.06.94z\"/><path d=\"M17.41 7.96l-1.37-1.37c-.4-.4-.92-.59-1.43-.59-.52 0-1.04.2-1.43.59L10.3 9.45l-7.72 7.72c-.78.78-.78 2.05 0 2.83L4 21.41c.39.39.9.59 1.41.59.51 0 1.02-.2 1.41-.59l7.78-7.78 2.81-2.81c.8-.78.8-2.07 0-2.86zM5.41 20L4 18.59l7.72-7.72 1.47 1.35L5.41 20z\"/>\n",
              "  </svg>\n",
              "      </button>\n",
              "      \n",
              "  <style>\n",
              "    .colab-df-container {\n",
              "      display:flex;\n",
              "      flex-wrap:wrap;\n",
              "      gap: 12px;\n",
              "    }\n",
              "\n",
              "    .colab-df-convert {\n",
              "      background-color: #E8F0FE;\n",
              "      border: none;\n",
              "      border-radius: 50%;\n",
              "      cursor: pointer;\n",
              "      display: none;\n",
              "      fill: #1967D2;\n",
              "      height: 32px;\n",
              "      padding: 0 0 0 0;\n",
              "      width: 32px;\n",
              "    }\n",
              "\n",
              "    .colab-df-convert:hover {\n",
              "      background-color: #E2EBFA;\n",
              "      box-shadow: 0px 1px 2px rgba(60, 64, 67, 0.3), 0px 1px 3px 1px rgba(60, 64, 67, 0.15);\n",
              "      fill: #174EA6;\n",
              "    }\n",
              "\n",
              "    [theme=dark] .colab-df-convert {\n",
              "      background-color: #3B4455;\n",
              "      fill: #D2E3FC;\n",
              "    }\n",
              "\n",
              "    [theme=dark] .colab-df-convert:hover {\n",
              "      background-color: #434B5C;\n",
              "      box-shadow: 0px 1px 3px 1px rgba(0, 0, 0, 0.15);\n",
              "      filter: drop-shadow(0px 1px 2px rgba(0, 0, 0, 0.3));\n",
              "      fill: #FFFFFF;\n",
              "    }\n",
              "  </style>\n",
              "\n",
              "      <script>\n",
              "        const buttonEl =\n",
              "          document.querySelector('#df-ccf1d016-e708-4f0b-95e6-64dcabd414db button.colab-df-convert');\n",
              "        buttonEl.style.display =\n",
              "          google.colab.kernel.accessAllowed ? 'block' : 'none';\n",
              "\n",
              "        async function convertToInteractive(key) {\n",
              "          const element = document.querySelector('#df-ccf1d016-e708-4f0b-95e6-64dcabd414db');\n",
              "          const dataTable =\n",
              "            await google.colab.kernel.invokeFunction('convertToInteractive',\n",
              "                                                     [key], {});\n",
              "          if (!dataTable) return;\n",
              "\n",
              "          const docLinkHtml = 'Like what you see? Visit the ' +\n",
              "            '<a target=\"_blank\" href=https://colab.research.google.com/notebooks/data_table.ipynb>data table notebook</a>'\n",
              "            + ' to learn more about interactive tables.';\n",
              "          element.innerHTML = '';\n",
              "          dataTable['output_type'] = 'display_data';\n",
              "          await google.colab.output.renderOutput(dataTable, element);\n",
              "          const docLink = document.createElement('div');\n",
              "          docLink.innerHTML = docLinkHtml;\n",
              "          element.appendChild(docLink);\n",
              "        }\n",
              "      </script>\n",
              "    </div>\n",
              "  </div>\n",
              "  "
            ],
            "text/plain": [
              "                                          Movie Name  ... IMDB Rating\n",
              "0                           The Shawshank Redemption  ...         9.2\n",
              "1                                      The Godfather  ...         9.1\n",
              "2                             The Godfather: Part II  ...         9.0\n",
              "3                                    The Dark Knight  ...         9.0\n",
              "4                                       12 Angry Men  ...         8.9\n",
              "5                                   Schindler's List  ...         8.9\n",
              "6      The Lord of the Rings: The Return of the King  ...         8.9\n",
              "7                                       Pulp Fiction  ...         8.8\n",
              "8                     The Good, the Bad and the Ugly  ...         8.8\n",
              "9  The Lord of the Rings: The Fellowship of the Ring  ...         8.8\n",
              "\n",
              "[10 rows x 3 columns]"
            ]
          },
          "metadata": {},
          "execution_count": 31
        }
      ]
    },
    {
      "cell_type": "code",
      "source": [
        ""
      ],
      "metadata": {
        "id": "bkgC5RGBaqKH"
      },
      "execution_count": null,
      "outputs": []
    },
    {
      "cell_type": "markdown",
      "source": [
        "# Scrapping Wikipedia"
      ],
      "metadata": {
        "id": "hftuIhk1nHnS"
      }
    },
    {
      "cell_type": "code",
      "source": [
        "# import wikipedia library\n",
        "!pip install wikipedia\n",
        "import wikipedia as wk"
      ],
      "metadata": {
        "id": "sOU49bqRnLKk",
        "colab": {
          "base_uri": "https://localhost:8080/"
        },
        "outputId": "2ae3b4ef-cbe7-4484-e4a5-f7457fe9a7b4"
      },
      "execution_count": null,
      "outputs": [
        {
          "output_type": "stream",
          "name": "stdout",
          "text": [
            "Collecting wikipedia\n",
            "  Downloading wikipedia-1.4.0.tar.gz (27 kB)\n",
            "Requirement already satisfied: beautifulsoup4 in /usr/local/lib/python3.7/dist-packages (from wikipedia) (4.6.3)\n",
            "Requirement already satisfied: requests<3.0.0,>=2.0.0 in /usr/local/lib/python3.7/dist-packages (from wikipedia) (2.23.0)\n",
            "Requirement already satisfied: chardet<4,>=3.0.2 in /usr/local/lib/python3.7/dist-packages (from requests<3.0.0,>=2.0.0->wikipedia) (3.0.4)\n",
            "Requirement already satisfied: idna<3,>=2.5 in /usr/local/lib/python3.7/dist-packages (from requests<3.0.0,>=2.0.0->wikipedia) (2.10)\n",
            "Requirement already satisfied: certifi>=2017.4.17 in /usr/local/lib/python3.7/dist-packages (from requests<3.0.0,>=2.0.0->wikipedia) (2021.10.8)\n",
            "Requirement already satisfied: urllib3!=1.25.0,!=1.25.1,<1.26,>=1.21.1 in /usr/local/lib/python3.7/dist-packages (from requests<3.0.0,>=2.0.0->wikipedia) (1.24.3)\n",
            "Building wheels for collected packages: wikipedia\n",
            "  Building wheel for wikipedia (setup.py) ... \u001b[?25l\u001b[?25hdone\n",
            "  Created wheel for wikipedia: filename=wikipedia-1.4.0-py3-none-any.whl size=11696 sha256=cc02dcd849f4ab14cb5b6fbab33553b2ccd56b5326b37913a2c55b3d5ae89baa\n",
            "  Stored in directory: /root/.cache/pip/wheels/15/93/6d/5b2c68b8a64c7a7a04947b4ed6d89fb557dcc6bc27d1d7f3ba\n",
            "Successfully built wikipedia\n",
            "Installing collected packages: wikipedia\n",
            "Successfully installed wikipedia-1.4.0\n"
          ]
        }
      ]
    },
    {
      "cell_type": "code",
      "source": [
        "# search any keyword\n",
        "print(wk.search(\"COEP\"))"
      ],
      "metadata": {
        "colab": {
          "base_uri": "https://localhost:8080/"
        },
        "id": "yGBGKrcUnM2P",
        "outputId": "baf2f2b4-8831-4f39-c065-684d5100e203"
      },
      "execution_count": null,
      "outputs": [
        {
          "output_type": "stream",
          "name": "stdout",
          "text": [
            "['College of Engineering, Pune', 'Sindhutai Sapkal', 'Anil Sahasrabudhe', 'Maharashtra', 'List of Indian engineering colleges before Independence', 'Prohibition in the United States', 'Community organizing', 'Swayam', 'List of Maharashtra Government Engineering Colleges', 'Harish S. Mehta']\n"
          ]
        }
      ]
    },
    {
      "cell_type": "code",
      "source": [
        "print(wk.search(\"COEP\", results = 3))"
      ],
      "metadata": {
        "colab": {
          "base_uri": "https://localhost:8080/"
        },
        "id": "zhzs98TInxlo",
        "outputId": "3f5a14cd-f45f-4d91-8fc3-fc944fbe45ce"
      },
      "execution_count": null,
      "outputs": [
        {
          "output_type": "stream",
          "name": "stdout",
          "text": [
            "['College of Engineering, Pune', 'Sindhutai Sapkal', 'Anil Sahasrabudhe']\n"
          ]
        }
      ]
    },
    {
      "cell_type": "code",
      "source": [
        "print(wk.summary(\"College Of Engineering Pune\"))"
      ],
      "metadata": {
        "colab": {
          "base_uri": "https://localhost:8080/"
        },
        "id": "R86oiJfyoVzv",
        "outputId": "958001d2-5684-4cf4-f1dd-750c50d1b4fa"
      },
      "execution_count": null,
      "outputs": [
        {
          "output_type": "stream",
          "name": "stdout",
          "text": [
            "College of Engineering Pune (COEP), is an autonomous institute of the Government of Maharashtra, situated in Pune, Maharashtra, India. Established in 1854 it is the 3rd oldest engineering college in India, after IIT Roorkee (1847) and College of Engineering, Guindy, Chennai (1859). The students and alumni of College of Engineering, Pune are colloquially referred to as COEPians. It was the first technical institution in India to offer mechanical engineering.\n"
          ]
        }
      ]
    },
    {
      "cell_type": "code",
      "source": [
        "print(wk.summary(\"College Of Engineering Pune\", sentences = 2))"
      ],
      "metadata": {
        "colab": {
          "base_uri": "https://localhost:8080/"
        },
        "id": "SP-MdOC7opQq",
        "outputId": "a1a13789-2480-4e32-94e6-99053e08a78d"
      },
      "execution_count": null,
      "outputs": [
        {
          "output_type": "stream",
          "name": "stdout",
          "text": [
            "College of Engineering Pune (COEP), is an autonomous institute of the Government of Maharashtra, situated in Pune, Maharashtra, India. Established in 1854 it is the 3rd oldest engineering college in India, after IIT Roorkee (1847) and College of Engineering, Guindy, Chennai (1859).\n"
          ]
        }
      ]
    },
    {
      "cell_type": "code",
      "source": [
        "# to get complete page\n",
        "coep_page = wk.page(\"College Of Engineering Pune\")\n",
        "print(coep_page.content)"
      ],
      "metadata": {
        "colab": {
          "base_uri": "https://localhost:8080/"
        },
        "id": "1G3SEVbApYXR",
        "outputId": "e6edceeb-98be-48a2-e5a8-f3c56cb18b21"
      },
      "execution_count": null,
      "outputs": [
        {
          "output_type": "stream",
          "name": "stdout",
          "text": [
            "College of Engineering Pune (COEP), is an autonomous institute of the Government of Maharashtra, situated in Pune, Maharashtra, India. Established in 1854 it is the 3rd oldest engineering college in India, after IIT Roorkee (1847) and College of Engineering, Guindy, Chennai (1859). The students and alumni of College of Engineering, Pune are colloquially referred to as COEPians. It was the first technical institution in India to offer mechanical engineering.\n",
            "\n",
            "\n",
            "== History ==\n",
            "\n",
            "The college was one of the first few colleges established by the British to serve the Indian subcontinent. The foundation stone of the new college was laid by the Governor of Bombay, Sir Bartle Frere, who was to become the Vice-Chancellor of the University, on 5 August 1865. In June of the following year, Theodore Cooke M.A., was appointed the Principal. He went on to hold the office for next 28 years.\n",
            "\n",
            "Initially, it was started on 16 December 1854, to train public works department (PWD) officials and was housed in three bungalows as the 'Poona Engineering and Mechanical School' to train subordinate officers for carrying out public works like buildings, dams, canals, railways and bridges. In July 1857, Henry Coke was given the charge of the institute. Admission was open to all, irrespective of nationality or caste. Good proficiency in English and basic knowledge of Mathematics were a prerequisite for getting admitted to the institute. The process of admission required that the aspiring candidate apply to the nearest government English school, to whom the entrance examination papers were handed over. The headmaster would take the examination on a date deemed convenient to him and submit the answer sheets to Henry Coke, the in-charge of the mechanical school. After examining the papers, Coke would notify the headmaster of the school with the names of candidates who were deemed fit for admission. Scholarships of ₹ 6 were offered per month after a period of six months of training in the mechanical school for fifteen students. The courses offered included Mathematics, Drawing, Surveying and levelling, building and construction and setting out works on the ground. The course would run for a period of two years.Later on, in the year 1864, the school became the \"Poona Civil Engineering College\". The number of courses were increased to include forestry and agricultural subjects, which led to its name being changed to Poona College of Science. The college was inaugurated at the new premises on 5 August 1865, at the hands of then governor Sir Bertel Ferre. It started a course in licensed and civil engineering (LCE) and trained masons and overseers. Later it secured affiliation to the Bombay university. The course was revised in 1886 and the minimum criteria required for admission was raised from Matriculation to the then Previous Examination.\n",
            "In 1909, the LCE was converted into the BE degree and the first batch of students passed out in 1912. The name 'Government college of engineering, Pune' was taken up only in 1911. All non-engineering courses were stopped by 1911, transferring the Bachelor of Science degree to the Science Institute of Bombay and subsequently in the year 1911, the name was changed to the \"Government College of Engineering, Poona\".\n",
            "The institution was initially affiliated to the University of Bombay (now Mumbai) for a degree of Licentiate in Civil Engineering known as LCE in 1858. The certificate course was converted into a degree course and the first class of the Bachelor of Engineering degree graduated in the year 1912. After the University of Poona (now Savitribai Phule Pune University) was established in 1948, the college became affiliated to the new university. In 1968, the three-year degree was extended to 4 years constituting 8 semesters.\n",
            "In 2003, the institute was granted complete autonomy by the State Government of Maharashtra, thus giving it the freedom to set its own curriculum and manage its own finances. With permanent affiliation to the Savitribai Phule Pune University, the institute now is an autonomous engineering school. This has been the biggest change as far as pedagogy at COEP is concerned. The following years have seen a multitude of positive changes in administration and academic strategies. Many of these have been responsible for the growing innovation in project work of college students. The institute contends that its autonomy now grants it greater flexibility in dynamically changing its syllabus to suit the changing needs of the industry.\n",
            "In a bid to boost research in engineering and postdoctoral research, the College of Engineering Pune (CoEP) is granted an additional campus on government land located in Nigdi Pradhikaran. Extended campus in Pradhikaran is having area of 40 acres.\n",
            "In academic year 2020-21 institute also commenced full time degree course in management under faculty of Management.\n",
            "\n",
            "\n",
            "== Campus ==\n",
            "\n",
            "\n",
            "=== The Main Hall ===\n",
            "The main hall is the present day administrative building of the College. It houses the Director, the Dean Academic Affairs, the Dean Student Affairs, the Gymkhana, the Examination cell and other various important administrative heads of the college. The original building was almost three floors tall with a base floor length of 18 meters and a width of 9 metres. The hall was recently refurbished and the inauguration of the restored heritage building (pictured below) took place on 24 March 2012 by Sharad Pawar, Minister of Agriculture, Government of India.\n",
            "\n",
            "\n",
            "== Academics ==\n",
            "\n",
            "\n",
            "=== Admissions ===\n",
            "\n",
            "\n",
            "==== Undergraduate ====\n",
            "Undergraduate admissions to the College of Engineering, Pune are competitive and are based on merit. Earlier admissions were based upon the percentage of science subjects' marks secured in Higher Secondary Certificate exam of Maharashtra state and later on the basis of marks scored in Maharashtra Common Entrance Test. However, at present the admissions are conducted on the basis of the marks secured in Maharashtra CET and HSC board combined. These admissions are conducted by the Directorate of Technical Education (DTE) through the Centralized Admission Process (CAP). Affirmative action programs exist for students belonging to socially and economically backward classes as stipulated in the Constitution of India and various statutes. There are programs for students from north-eastern India and Indian citizens from Kashmir. There are also programs for children of people working in Gulf countries, foreign nationals, foreign students and Person of Indian Origin (PIO) in the college. Non-Resident Indians can also apply for the courses. For the year 2015–16 this quota is applicable for admissions to Walchand College of Engineering, Sangli and Laxminarayan Institute of Technology. The reservations for different categories are based on the Government of India and Government of Maharashtra rules.\n",
            "Reservations in seats are provided for SC (Schedule Caste), ST (Schedule Tribes), NT (Nomadic Tribes), OBC (Other Backward Classes), PH (Physically Handicapped) as well as female candidates. It has been included in the Guinness Book of world records, several admissions to direct second year of BTech course are also conducted for those candidates who have completed Diploma in Engineering at different polytechnic institutes in the state of Maharashtra. These admissions are conducted through the Centralized Admission Process (CAP) by DTE itself.\n",
            "\n",
            "\n",
            "==== Postgraduate and Doctorate ====\n",
            "Postgraduate admissions to the College of Engineering, Pune are also on merit basis. The M.tech admissions are on the basis of the Graduate Aptitude Test in Engineering (GATE) conducted by the seven old IITs and the IISc. Seat reservations are applicable as per the Government of Maharashtra rules.\n",
            "The college also provides Doctor of Philosophy (PhD) programmes in various fields.\n",
            "Department of Applied Sciences is recognised as PhD research centre by S.P. Pune University in the subjects of Environmental Sciences and Chemistry.\n",
            "\n",
            "\n",
            "=== Rankings ===\n",
            "COEP was ranked 15 among engineering colleges in India by Outlook India in 2019. The National Institutional Ranking Framework (NIRF) ranked it 50th in the engineering ranking in 2020 and 101-150 overall. It has been ranked number one among the top five government institutions in Atal Ranking of Institutions on Innovation Achievement (ARIIA) in 2020.\n",
            "\n",
            "\n",
            "== Student life ==\n",
            "\n",
            "\n",
            "=== MindSpark ===\n",
            "\n",
            "MindSpark is the national level annual technical festival hosted by the college and established in 2007. The idea behind MindSpark originated from the need to unite various departmental level festivals that were scattered across the academic calendar. It features about 50 events across various disciplines of engineering and has been backed by the support of industrial sponsors who also associate with COEP for placement. This event is usually scheduled in an odd semester (around September) and is of 3 days (usually weekend).\n",
            "\n",
            "\n",
            "=== Regatta ===\n",
            "\n",
            "Regetta is an annual regatta hosted by the College of Engineering, Pune. Since its inception in 1928, it has showcased around 165 boats, notably the Eighter, which is one of the oldest boats. The 92nd edition of Regatta was held on 8 March 2020. Unlike a Regatta which means a collection of boat races, COEP Boat Club's Regatta is a show of various kinds of boats, kayaks, punts, shell boats and scull boats. The events in this show are Telematches, Kayak Ballet, Shell Games, Punt Formation, Mashaal Dance and the Arrow formation.\n",
            "\n",
            "\n",
            "=== Cultural activities & Fests – Impressions ===\n",
            " \n",
            "COEP participates in various cultural competitions like Firodiya Karandak, Purushottam Karandak, and  Mood Indigo (festival).\n",
            "In 2016, COEP started its first ever Cultural Fest, Impressions, which is held every year in the 2nd week of December and lasts for 3 days. Impressions was formed as a platform \"For the Artists, By the Artists\", to provide opportunities for people from the fields of Dance, Music, Theater, Art, and Fashion to display their talent. The events span over six main modules, namely – Dance, Music, Arts and Crafts, Dramatics, Photography, and Writing.\n",
            "\n",
            "\n",
            "=== Sesquicentenary celebrations ===\n",
            "In 2004, COEP celebrated 150 years of its existence. The celebrations were marked by a visit by the Hon. Ex-President of India, Dr. APJ Abdul Kalam. A postage stamp to mark the 150th anniversary of the college was released.\n",
            "\n",
            "\n",
            "=== Participation in Guinness World Records ===\n",
            "The college has made three entries so far in the Guinness World Record books. It holds the record for \"Most people skipping on the same rope\", which still stands as the world record and \"The longest painting by numbers\"On 4 November 2012, 3248 people solved the Rubik's cube at the same time for breaking the Guinness world record for \"Most number of people solving the Rubik's cube\". It was previously held by IITB, where 937 students solved the puzzle within 30 minutes in March 2012.\n",
            "\n",
            "\n",
            "=== Team Nemesis Racing (BAJA Competition) ===\n",
            "Baja Competition is an event which comprises designing, fabricating, assembling an all-terrain four wheeler vehicle and running it on a specially prepared torturous track in a grueling competition for four hours.\n",
            "The College team was declared the overall winner at the Baja SAE India contest 2013 held at Pithampur, near Indore at the National Automotive Testing and R&D Infrastructure Project. The team also won the Best Acceleration, the Raftaar award, Computer-aided engineering award, Best Build Quality, Endurance winner awards.\n",
            "BAJA 2015 witnessed COEP starting at the pole position in the race consecutively for the fourth time by being the fastest vehicle. COEP received a total of following 9 awards in BAJA competition 2015, Overall-1st, Durability −1st, Acceleration-1st, Hill Climb-1st, Raftaar-1st, Innovation-2nd, CAE −2nd, Build Quality- 2nd, Safest Vehicle −2nd.\n",
            "BAJA 2016 was held at Pithampur, Indore on 21 February 2016. COEP started at the pole position in the race consecutively for the fifth time by being the fastest vehicle. Out of the 14 award categories, COEP won 11 awards in BAJA competition 2016 retaining the Overall Championship.COEP team Nemesis won overall championship at BAJA 2017 competition creating a hat trick of records.  In the 10th edition of Mahindra BAJA, a total of 415 entries applied for the event from 185 colleges that participated at a virtual stage, out of which 150 teams were selected for m- BAJA, while 35 teams for eBAJA. In the final round or the endurance test, 118 teams participated in the competition which was held from 16 to 21 February 2017 at the NATRIP facility in Pithampur, Indore.  Out of the 12 award categories, COEP won 7 awards in BAJA competition 2017 retaining the Overall Championship.\n",
            "\n",
            "\n",
            "=== COEP robotics team ===\n",
            "COEP's Robotics Team is represented by the Robot Study Circle (RSC). The Club has industrial collaboration with Siemens PLM as a title sponsor, Janatics Pneumatics, Schmalz India, Pepperl & Fuchs, and Robolab Technologies. Members of RSC are members of the first ever institute student chapter of THE ROBOTICS SOCIETY established in India at College of Engineering Pune. The robotics team has a number of awards and in 2017 team won the national ABU Robocon, going on to represent India in International Robocon held at Tokyo, Japan. RSC placed 6th.\n",
            "\n",
            "\n",
            "=== COEP Satellite team ===\n",
            "The satellite team also known as CSAT is CoEP's satellite initiative. They successfully worked on project Swayam a 1-U picosatellite which was launched by ISRO on 22 June 2016.\n",
            "After the successful launch of Swayam, CSAT is now working on its next mission: an experiment for alternate means of space travel with the help of solar sails.\n",
            "\n",
            "\n",
            "== Notable alumni ==\n",
            "\n",
            "Sir Mokshagundam Visvesvarayya (1861–1962), recipient of Bharat Ratna and Knighthood, eminent engineer and statesman\n",
            "Thomas Kailath, emeritus professor of engineering at Stanford University, winner of the IEEE Shannon Award and US National Medal of Science\n",
            "C. Kumar N. Patel, Vice Chancellor for Research at the University of California, Los Angeles, inventor of the carbon-dioxide laser, winner of the United States National Medal of Science\n",
            "Baburao Govindrao Shirke, Founder of B. G. Shirke & Company\n",
            "Nitin Paranjpe, President of the Foods & Refreshment Division of Unilever\n",
            "Laxman Narasimhan, an Indian-American business executive, who is the chief executive of Reckitt Benckiser, having previously been chief commercial officer at PepsiCo.\n",
            "Rajiv Bajaj, Managing Director of Bajaj Auto: One of the largest two-wheeler manufacturer in India\n",
            "Sumant Moolgaokar, Padma Bhushan, he was an Indian industrialist, known as architect of Tata Motors. He was the chief executive of Tata Engineering and Locomotive Company (TELCO). He also remained Vice-Chairman of Tata Steel  and served as non-executive chairman of Maruti Suzuki.\n",
            "Ramesh Raskar, Associate Professor at Massachusetts Institute of Technology, Director of MIT Media Lab's Camera Culture group and developer of a high-speed femto-camera that captures pictures of light.\n",
            "Sandeep Johri, technology executive and serial entrepreneur, CEO of Tricentis\n",
            "Vijay Kelkar, Padma Vibhushan, Advisor to the Finance Minister, Government of India in the rank of a Minister of State, Chairman, National Stock Exchange of India\n",
            "Aravind Joshi, emeritus professor of Computer and Cognitive Science at the University of Pennsylvania.\n",
            "Lila Poonawalla, Padma Shri, an Indian industrialist, philanthropist, humanitarian. First Woman Engineer graduating from the Mechanical stream.\n",
            "Sanjay Govind Dhande, Padma Shri, an Indian engineer and educationist. He was director of the Indian Institute of Technology Kanpur.\n",
            "Suhas V Patankar, pioneer in the field of computational fluid dynamics (CFD) and Finite volume method. Notable as the co-developer of the SIMPLE algorithm in the field of Computational Fluid Dynamics (CFD). He is currently a Professor Emeritus at the University of Minnesota.\n",
            "Gaur Gopal Das, an Indian monk, motivational speaker and lifestyle coach.\n",
            "Vikas Kharage, IAS, Principal Secretary to the Chief Minister of Maharashtra. 34th rank in the country and 1st in Maharashtra of 1994 batch. Recipient of 'COEP Abhiman' Alumni Award.\n",
            "\n",
            "\n",
            "== Controversies ==\n",
            "\n",
            "\n",
            "=== Land acquisition ===\n",
            "In December 2005 the Pune Municipal Corporation asked the college for some of its land for road widening. This led to considerable outrage amongst students, and the issue was under heated debate. It was pointed out that the college was classified as a 'heritage complex' by the state government.\n",
            "\n",
            "\n",
            "=== Renaming ===\n",
            "1854–1870: Poona Engineering Class and Mechanical School1871–1911: Government Science College (Agriculture and Botany Classes)1911–2003: Government College of Engineering, Pune2003–2006: Pune Institute of Engineering and Technology2006 onwards: College of Engineering, Pune\n",
            "In 2000, COEP claimed independence from the state government and was declared an autonomous institute in 2003. Considerable confusion ensued over a proposed name change from COEP to Pune Institute of Engineering and Technology (PIET) which was strongly opposed by alumni and students. The newly autonomous entity's name was rolled back to COEP in November 2005.\n",
            "\n",
            "\n",
            "=== Road widening and flyover construction ===\n",
            "The College was at loggerheads with the Pune Municipal Corporation over the proposed construction of a flyover in front of the college, that would not only deface the renovated Main Hall but would also encroach upon the College's premises. The College and its alumni were of the opinion that the flyover would not, in any way, decongest the traffic plying through that road. It also considered the flyover as serious danger to the safety of the pedestrians, including students, as it was not considered in the plan of the flyover. Many civic activists and organisations supported the College's opinion.\n",
            "\n",
            "\n",
            "== See also ==\n",
            "Government College of Engineering, Nagpur\n",
            "Government College of Engineering, Amravati\n",
            "Government College of Engineering, Aurangabad\n",
            "Government College of Engineering, Chandrapur\n",
            "Government College of Engineering, Karad\n",
            "Shri Guru Gobind Singhji Institute of Engineering and Technology, Nanded\n",
            "Government College Of Engineering And Research, Avasari Khurd\n",
            "\n",
            "\n",
            "== References ==\n",
            "\n",
            "\n",
            "== External links ==\n",
            "College of Engineering, Pune – Our Official web site\n"
          ]
        }
      ]
    },
    {
      "cell_type": "code",
      "source": [
        "# get url of page\n",
        "print(coep_page.url)"
      ],
      "metadata": {
        "colab": {
          "base_uri": "https://localhost:8080/"
        },
        "id": "k6PMuD_6pkvJ",
        "outputId": "76c08084-7c67-4ef6-b81f-ad52ef0a6f7c"
      },
      "execution_count": null,
      "outputs": [
        {
          "output_type": "stream",
          "name": "stdout",
          "text": [
            "https://en.wikipedia.org/wiki/College_of_Engineering,_Pune\n"
          ]
        }
      ]
    },
    {
      "cell_type": "code",
      "source": [
        "# get title of page\n",
        "print(coep_page.title)"
      ],
      "metadata": {
        "colab": {
          "base_uri": "https://localhost:8080/"
        },
        "id": "8pAXx52kpzSs",
        "outputId": "02f834a8-d179-4045-8d2f-9768b5ebeb28"
      },
      "execution_count": null,
      "outputs": [
        {
          "output_type": "stream",
          "name": "stdout",
          "text": [
            "College of Engineering, Pune\n"
          ]
        }
      ]
    },
    {
      "cell_type": "code",
      "source": [
        "# get images of keyword\n",
        "print(coep_page.images)"
      ],
      "metadata": {
        "colab": {
          "base_uri": "https://localhost:8080/"
        },
        "id": "JUfZdsC7p-ZE",
        "outputId": "c72d311f-65e3-45fb-fee1-595cedec7146"
      },
      "execution_count": null,
      "outputs": [
        {
          "output_type": "stream",
          "name": "stdout",
          "text": [
            "['https://upload.wikimedia.org/wikipedia/commons/2/27/Bust_of_Sir_Visvesvarayya_facing_the_College%27s_Main_building.jpg', 'https://upload.wikimedia.org/wikipedia/commons/a/a7/COEP_Date.JPG', 'https://upload.wikimedia.org/wikipedia/commons/4/4e/COEP_Main_building.JPG', 'https://upload.wikimedia.org/wikipedia/commons/c/ca/College_of_Engineering%2C_Pune_Auditorium_%28Stage_View%29.jpg', 'https://upload.wikimedia.org/wikipedia/commons/c/ca/People_at_83rd_Regatta.jpg', 'https://upload.wikimedia.org/wikipedia/commons/6/63/Pune_ShaniwarWada_DelhiGate.jpg', 'https://upload.wikimedia.org/wikipedia/commons/0/04/The_Mind-Spark_Champion%27s_Trophy.jpg', 'https://upload.wikimedia.org/wikipedia/en/f/f0/College_of_Engineering%2C_Pune_logo.jpg', 'https://upload.wikimedia.org/wikipedia/en/4/41/Flag_of_India.svg', 'https://upload.wikimedia.org/wikipedia/en/8/8a/OOjs_UI_icon_edit-ltr-progressive.svg']\n"
          ]
        }
      ]
    },
    {
      "cell_type": "code",
      "source": [
        "# the tables on the page will be stored as list\n",
        "# and can be converttd by using pandas\n",
        "\n",
        "coep_html = wk.page(\"College Of Engineering Pune\").html().encode(\"UTF-8\")\n",
        "coep_html\n",
        "import pandas as pd\n",
        "coep_df = pd.read_html(coep_html)[4]\n",
        "coep_df"
      ],
      "metadata": {
        "colab": {
          "base_uri": "https://localhost:8080/"
        },
        "id": "LSwCxX9HqIp-",
        "outputId": "186f178a-4e4e-41a9-9db2-e26ca2269744"
      },
      "execution_count": null,
      "outputs": [
        {
          "output_type": "execute_result",
          "data": {
            "text/html": [
              "\n",
              "  <div id=\"df-bb83de4d-febe-40ea-9d00-7e8dea7b97c7\">\n",
              "    <div class=\"colab-df-container\">\n",
              "      <div>\n",
              "<style scoped>\n",
              "    .dataframe tbody tr th:only-of-type {\n",
              "        vertical-align: middle;\n",
              "    }\n",
              "\n",
              "    .dataframe tbody tr th {\n",
              "        vertical-align: top;\n",
              "    }\n",
              "\n",
              "    .dataframe thead th {\n",
              "        text-align: right;\n",
              "    }\n",
              "</style>\n",
              "<table border=\"1\" class=\"dataframe\">\n",
              "  <thead>\n",
              "    <tr style=\"text-align: right;\">\n",
              "      <th></th>\n",
              "      <th>0</th>\n",
              "      <th>1</th>\n",
              "    </tr>\n",
              "  </thead>\n",
              "  <tbody>\n",
              "    <tr>\n",
              "      <th>0</th>\n",
              "      <td>Palaces and forts</td>\n",
              "      <td>Shaniwar Wada Vishrambaug Wada Shinde Chhatri ...</td>\n",
              "    </tr>\n",
              "    <tr>\n",
              "      <th>1</th>\n",
              "      <td>Temples</td>\n",
              "      <td>Puneshwar Narayaneshwar Pataleshwar Kasba Gana...</td>\n",
              "    </tr>\n",
              "    <tr>\n",
              "      <th>2</th>\n",
              "      <td>Museums</td>\n",
              "      <td>Raja Dinkar Kelkar Museum Mahatma Phule Museum...</td>\n",
              "    </tr>\n",
              "    <tr>\n",
              "      <th>3</th>\n",
              "      <td>Parks</td>\n",
              "      <td>Bund Garden Rajiv Gandhi Zoological Park Shuny...</td>\n",
              "    </tr>\n",
              "    <tr>\n",
              "      <th>4</th>\n",
              "      <td>Others</td>\n",
              "      <td>Bal Gandharva Ranga Mandir Tilak Smarak Ranga ...</td>\n",
              "    </tr>\n",
              "  </tbody>\n",
              "</table>\n",
              "</div>\n",
              "      <button class=\"colab-df-convert\" onclick=\"convertToInteractive('df-bb83de4d-febe-40ea-9d00-7e8dea7b97c7')\"\n",
              "              title=\"Convert this dataframe to an interactive table.\"\n",
              "              style=\"display:none;\">\n",
              "        \n",
              "  <svg xmlns=\"http://www.w3.org/2000/svg\" height=\"24px\"viewBox=\"0 0 24 24\"\n",
              "       width=\"24px\">\n",
              "    <path d=\"M0 0h24v24H0V0z\" fill=\"none\"/>\n",
              "    <path d=\"M18.56 5.44l.94 2.06.94-2.06 2.06-.94-2.06-.94-.94-2.06-.94 2.06-2.06.94zm-11 1L8.5 8.5l.94-2.06 2.06-.94-2.06-.94L8.5 2.5l-.94 2.06-2.06.94zm10 10l.94 2.06.94-2.06 2.06-.94-2.06-.94-.94-2.06-.94 2.06-2.06.94z\"/><path d=\"M17.41 7.96l-1.37-1.37c-.4-.4-.92-.59-1.43-.59-.52 0-1.04.2-1.43.59L10.3 9.45l-7.72 7.72c-.78.78-.78 2.05 0 2.83L4 21.41c.39.39.9.59 1.41.59.51 0 1.02-.2 1.41-.59l7.78-7.78 2.81-2.81c.8-.78.8-2.07 0-2.86zM5.41 20L4 18.59l7.72-7.72 1.47 1.35L5.41 20z\"/>\n",
              "  </svg>\n",
              "      </button>\n",
              "      \n",
              "  <style>\n",
              "    .colab-df-container {\n",
              "      display:flex;\n",
              "      flex-wrap:wrap;\n",
              "      gap: 12px;\n",
              "    }\n",
              "\n",
              "    .colab-df-convert {\n",
              "      background-color: #E8F0FE;\n",
              "      border: none;\n",
              "      border-radius: 50%;\n",
              "      cursor: pointer;\n",
              "      display: none;\n",
              "      fill: #1967D2;\n",
              "      height: 32px;\n",
              "      padding: 0 0 0 0;\n",
              "      width: 32px;\n",
              "    }\n",
              "\n",
              "    .colab-df-convert:hover {\n",
              "      background-color: #E2EBFA;\n",
              "      box-shadow: 0px 1px 2px rgba(60, 64, 67, 0.3), 0px 1px 3px 1px rgba(60, 64, 67, 0.15);\n",
              "      fill: #174EA6;\n",
              "    }\n",
              "\n",
              "    [theme=dark] .colab-df-convert {\n",
              "      background-color: #3B4455;\n",
              "      fill: #D2E3FC;\n",
              "    }\n",
              "\n",
              "    [theme=dark] .colab-df-convert:hover {\n",
              "      background-color: #434B5C;\n",
              "      box-shadow: 0px 1px 3px 1px rgba(0, 0, 0, 0.15);\n",
              "      filter: drop-shadow(0px 1px 2px rgba(0, 0, 0, 0.3));\n",
              "      fill: #FFFFFF;\n",
              "    }\n",
              "  </style>\n",
              "\n",
              "      <script>\n",
              "        const buttonEl =\n",
              "          document.querySelector('#df-bb83de4d-febe-40ea-9d00-7e8dea7b97c7 button.colab-df-convert');\n",
              "        buttonEl.style.display =\n",
              "          google.colab.kernel.accessAllowed ? 'block' : 'none';\n",
              "\n",
              "        async function convertToInteractive(key) {\n",
              "          const element = document.querySelector('#df-bb83de4d-febe-40ea-9d00-7e8dea7b97c7');\n",
              "          const dataTable =\n",
              "            await google.colab.kernel.invokeFunction('convertToInteractive',\n",
              "                                                     [key], {});\n",
              "          if (!dataTable) return;\n",
              "\n",
              "          const docLinkHtml = 'Like what you see? Visit the ' +\n",
              "            '<a target=\"_blank\" href=https://colab.research.google.com/notebooks/data_table.ipynb>data table notebook</a>'\n",
              "            + ' to learn more about interactive tables.';\n",
              "          element.innerHTML = '';\n",
              "          dataTable['output_type'] = 'display_data';\n",
              "          await google.colab.output.renderOutput(dataTable, element);\n",
              "          const docLink = document.createElement('div');\n",
              "          docLink.innerHTML = docLinkHtml;\n",
              "          element.appendChild(docLink);\n",
              "        }\n",
              "      </script>\n",
              "    </div>\n",
              "  </div>\n",
              "  "
            ],
            "text/plain": [
              "                   0                                                  1\n",
              "0  Palaces and forts  Shaniwar Wada Vishrambaug Wada Shinde Chhatri ...\n",
              "1            Temples  Puneshwar Narayaneshwar Pataleshwar Kasba Gana...\n",
              "2            Museums  Raja Dinkar Kelkar Museum Mahatma Phule Museum...\n",
              "3              Parks  Bund Garden Rajiv Gandhi Zoological Park Shuny...\n",
              "4             Others  Bal Gandharva Ranga Mandir Tilak Smarak Ranga ..."
            ]
          },
          "metadata": {},
          "execution_count": 41
        }
      ]
    },
    {
      "cell_type": "markdown",
      "source": [
        "# Basic Pandas"
      ],
      "metadata": {
        "id": "fa2TwCtU6rxv"
      }
    },
    {
      "cell_type": "code",
      "source": [
        "from google.colab import drive\n",
        "drive.mount('/content/drive')"
      ],
      "metadata": {
        "id": "H22wozdlqdmi",
        "colab": {
          "base_uri": "https://localhost:8080/",
          "height": 346
        },
        "outputId": "d0e058cd-4fed-483c-b9a7-e49cdfd14b48"
      },
      "execution_count": null,
      "outputs": [
        {
          "output_type": "error",
          "ename": "MessageError",
          "evalue": "ignored",
          "traceback": [
            "\u001b[0;31m---------------------------------------------------------------------------\u001b[0m",
            "\u001b[0;31mMessageError\u001b[0m                              Traceback (most recent call last)",
            "\u001b[0;32m<ipython-input-42-d5df0069828e>\u001b[0m in \u001b[0;36m<module>\u001b[0;34m()\u001b[0m\n\u001b[1;32m      1\u001b[0m \u001b[0;32mfrom\u001b[0m \u001b[0mgoogle\u001b[0m\u001b[0;34m.\u001b[0m\u001b[0mcolab\u001b[0m \u001b[0;32mimport\u001b[0m \u001b[0mdrive\u001b[0m\u001b[0;34m\u001b[0m\u001b[0;34m\u001b[0m\u001b[0m\n\u001b[0;32m----> 2\u001b[0;31m \u001b[0mdrive\u001b[0m\u001b[0;34m.\u001b[0m\u001b[0mmount\u001b[0m\u001b[0;34m(\u001b[0m\u001b[0;34m'/content/drive'\u001b[0m\u001b[0;34m)\u001b[0m\u001b[0;34m\u001b[0m\u001b[0;34m\u001b[0m\u001b[0m\n\u001b[0m",
            "\u001b[0;32m/usr/local/lib/python3.7/dist-packages/google/colab/drive.py\u001b[0m in \u001b[0;36mmount\u001b[0;34m(mountpoint, force_remount, timeout_ms, use_metadata_server)\u001b[0m\n\u001b[1;32m    111\u001b[0m       \u001b[0mtimeout_ms\u001b[0m\u001b[0;34m=\u001b[0m\u001b[0mtimeout_ms\u001b[0m\u001b[0;34m,\u001b[0m\u001b[0;34m\u001b[0m\u001b[0;34m\u001b[0m\u001b[0m\n\u001b[1;32m    112\u001b[0m       \u001b[0muse_metadata_server\u001b[0m\u001b[0;34m=\u001b[0m\u001b[0muse_metadata_server\u001b[0m\u001b[0;34m,\u001b[0m\u001b[0;34m\u001b[0m\u001b[0;34m\u001b[0m\u001b[0m\n\u001b[0;32m--> 113\u001b[0;31m       ephemeral=ephemeral)\n\u001b[0m\u001b[1;32m    114\u001b[0m \u001b[0;34m\u001b[0m\u001b[0m\n\u001b[1;32m    115\u001b[0m \u001b[0;34m\u001b[0m\u001b[0m\n",
            "\u001b[0;32m/usr/local/lib/python3.7/dist-packages/google/colab/drive.py\u001b[0m in \u001b[0;36m_mount\u001b[0;34m(mountpoint, force_remount, timeout_ms, use_metadata_server, ephemeral)\u001b[0m\n\u001b[1;32m    134\u001b[0m   \u001b[0;32mif\u001b[0m \u001b[0mephemeral\u001b[0m\u001b[0;34m:\u001b[0m\u001b[0;34m\u001b[0m\u001b[0;34m\u001b[0m\u001b[0m\n\u001b[1;32m    135\u001b[0m     _message.blocking_request(\n\u001b[0;32m--> 136\u001b[0;31m         'request_auth', request={'authType': 'dfs_ephemeral'}, timeout_sec=None)\n\u001b[0m\u001b[1;32m    137\u001b[0m \u001b[0;34m\u001b[0m\u001b[0m\n\u001b[1;32m    138\u001b[0m   \u001b[0mmountpoint\u001b[0m \u001b[0;34m=\u001b[0m \u001b[0m_os\u001b[0m\u001b[0;34m.\u001b[0m\u001b[0mpath\u001b[0m\u001b[0;34m.\u001b[0m\u001b[0mexpanduser\u001b[0m\u001b[0;34m(\u001b[0m\u001b[0mmountpoint\u001b[0m\u001b[0;34m)\u001b[0m\u001b[0;34m\u001b[0m\u001b[0;34m\u001b[0m\u001b[0m\n",
            "\u001b[0;32m/usr/local/lib/python3.7/dist-packages/google/colab/_message.py\u001b[0m in \u001b[0;36mblocking_request\u001b[0;34m(request_type, request, timeout_sec, parent)\u001b[0m\n\u001b[1;32m    173\u001b[0m   request_id = send_request(\n\u001b[1;32m    174\u001b[0m       request_type, request, parent=parent, expect_reply=True)\n\u001b[0;32m--> 175\u001b[0;31m   \u001b[0;32mreturn\u001b[0m \u001b[0mread_reply_from_input\u001b[0m\u001b[0;34m(\u001b[0m\u001b[0mrequest_id\u001b[0m\u001b[0;34m,\u001b[0m \u001b[0mtimeout_sec\u001b[0m\u001b[0;34m)\u001b[0m\u001b[0;34m\u001b[0m\u001b[0;34m\u001b[0m\u001b[0m\n\u001b[0m",
            "\u001b[0;32m/usr/local/lib/python3.7/dist-packages/google/colab/_message.py\u001b[0m in \u001b[0;36mread_reply_from_input\u001b[0;34m(message_id, timeout_sec)\u001b[0m\n\u001b[1;32m    104\u001b[0m         reply.get('colab_msg_id') == message_id):\n\u001b[1;32m    105\u001b[0m       \u001b[0;32mif\u001b[0m \u001b[0;34m'error'\u001b[0m \u001b[0;32min\u001b[0m \u001b[0mreply\u001b[0m\u001b[0;34m:\u001b[0m\u001b[0;34m\u001b[0m\u001b[0;34m\u001b[0m\u001b[0m\n\u001b[0;32m--> 106\u001b[0;31m         \u001b[0;32mraise\u001b[0m \u001b[0mMessageError\u001b[0m\u001b[0;34m(\u001b[0m\u001b[0mreply\u001b[0m\u001b[0;34m[\u001b[0m\u001b[0;34m'error'\u001b[0m\u001b[0;34m]\u001b[0m\u001b[0;34m)\u001b[0m\u001b[0;34m\u001b[0m\u001b[0;34m\u001b[0m\u001b[0m\n\u001b[0m\u001b[1;32m    107\u001b[0m       \u001b[0;32mreturn\u001b[0m \u001b[0mreply\u001b[0m\u001b[0;34m.\u001b[0m\u001b[0mget\u001b[0m\u001b[0;34m(\u001b[0m\u001b[0;34m'data'\u001b[0m\u001b[0;34m,\u001b[0m \u001b[0;32mNone\u001b[0m\u001b[0;34m)\u001b[0m\u001b[0;34m\u001b[0m\u001b[0;34m\u001b[0m\u001b[0m\n\u001b[1;32m    108\u001b[0m \u001b[0;34m\u001b[0m\u001b[0m\n",
            "\u001b[0;31mMessageError\u001b[0m: Error: credential propagation was unsuccessful"
          ]
        }
      ]
    },
    {
      "cell_type": "code",
      "source": [
        "excel_file = '/content/drive/MyDrive/Colab Notebooks/Diploma/Data Sets/IFCB2009_85.xlsx'\n",
        "excel_file_df = pd.read_excel(excel_file)\n",
        "excel_file_df.head()"
      ],
      "metadata": {
        "id": "1jc7QtijRk1J"
      },
      "execution_count": null,
      "outputs": []
    },
    {
      "cell_type": "code",
      "source": [
        "excel_file_df.shape"
      ],
      "metadata": {
        "id": "XR0UXaJRSHDj"
      },
      "execution_count": null,
      "outputs": []
    },
    {
      "cell_type": "code",
      "source": [
        "excel_file_df['CITY 1'].value_counts()"
      ],
      "metadata": {
        "id": "zkCin2PPS1Bx"
      },
      "execution_count": null,
      "outputs": []
    },
    {
      "cell_type": "code",
      "source": [
        "locator = Nominatim(user_agent=\"http\")\n",
        "location = locator.geocode('CHENNAI')\n",
        "print(\"Latitude = {}, Longitude = {}\".format(location.latitude, location.longitude))"
      ],
      "metadata": {
        "id": "MRFCsG2FTNG8"
      },
      "execution_count": null,
      "outputs": []
    },
    {
      "cell_type": "code",
      "source": [
        ""
      ],
      "metadata": {
        "id": "WPJD81YEUhqZ"
      },
      "execution_count": null,
      "outputs": []
    },
    {
      "cell_type": "markdown",
      "source": [
        "# Scraping PDFs"
      ],
      "metadata": {
        "id": "wdodXv1yJMlZ"
      }
    },
    {
      "cell_type": "code",
      "source": [
        "import os\n",
        "!pip install tabula-py\n",
        "import tabula\n",
        "import urllib.request\n",
        "from urllib.parse import urljoin\n",
        "url = 'https://www.premierleague.com/publications'\n",
        "\n",
        "# Specify the folder for the files to be downloaded\n",
        "folder_loc = r'/content/drive/MyDrive/Colab Notebooks/Diploma/Tools in Data Science/Premier_League'\n",
        "\n",
        "# if not os.path.exists(folder_loc):\n",
        "#     os.mkdir(folder_loc)"
      ],
      "metadata": {
        "colab": {
          "base_uri": "https://localhost:8080/"
        },
        "id": "V9YcNyMmJSQE",
        "outputId": "05d4b3b9-358c-45d4-d9ec-6bfe141dc8cb"
      },
      "execution_count": null,
      "outputs": [
        {
          "output_type": "stream",
          "name": "stdout",
          "text": [
            "Requirement already satisfied: tabula-py in /usr/local/lib/python3.7/dist-packages (2.3.0)\n",
            "Requirement already satisfied: pandas>=0.25.3 in /usr/local/lib/python3.7/dist-packages (from tabula-py) (1.1.5)\n",
            "Requirement already satisfied: distro in /usr/local/lib/python3.7/dist-packages (from tabula-py) (1.6.0)\n",
            "Requirement already satisfied: numpy in /usr/local/lib/python3.7/dist-packages (from tabula-py) (1.19.5)\n",
            "Requirement already satisfied: python-dateutil>=2.7.3 in /usr/local/lib/python3.7/dist-packages (from pandas>=0.25.3->tabula-py) (2.8.2)\n",
            "Requirement already satisfied: pytz>=2017.2 in /usr/local/lib/python3.7/dist-packages (from pandas>=0.25.3->tabula-py) (2018.9)\n",
            "Requirement already satisfied: six>=1.5 in /usr/local/lib/python3.7/dist-packages (from python-dateutil>=2.7.3->pandas>=0.25.3->tabula-py) (1.15.0)\n"
          ]
        }
      ]
    },
    {
      "cell_type": "markdown",
      "source": [
        "Actual Code"
      ],
      "metadata": {
        "id": "UCl4Gvw6LZGq"
      }
    },
    {
      "cell_type": "code",
      "source": [
        "response = requests.get(url)\n",
        "soup = bs(response.text, 'html.parser')\n",
        "\n",
        "# extract all tags that end in .pdf\n",
        "for link in soup.select('a[href$=\".pdf\"]'):\n",
        "    # Name of the file to be downloaded\n",
        "    filename = os.path.join(folder_loc, link['href'].split('/')[-1])\n",
        "    print(filename)\n",
        "    with open(filename, 'wb') as f:\n",
        "        f.write(requests.get(urljoin(url, link['href'])).content)"
      ],
      "metadata": {
        "id": "SKQ7uOKBLeBA"
      },
      "execution_count": null,
      "outputs": []
    },
    {
      "cell_type": "markdown",
      "source": [
        "Read table from file and export it to PDF"
      ],
      "metadata": {
        "id": "288-ZL27aO9R"
      }
    },
    {
      "cell_type": "code",
      "source": [
        "import tabula\n",
        "df = tabula.read_pdf(folder_loc + '/This-is-PL-Interactive-Combined.pdf', pages='18')\n",
        "df"
      ],
      "metadata": {
        "id": "FNRTohhbUnuK"
      },
      "execution_count": null,
      "outputs": []
    },
    {
      "cell_type": "code",
      "source": [
        ""
      ],
      "metadata": {
        "id": "3vM7QRPabI-u"
      },
      "execution_count": null,
      "outputs": []
    }
  ]
}