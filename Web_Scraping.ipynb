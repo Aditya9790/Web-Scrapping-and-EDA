{
  "nbformat": 4,
  "nbformat_minor": 0,
  "metadata": {
    "colab": {
      "name": "Web Scraping.ipynb",
      "provenance": [],
      "collapsed_sections": [
        "wCiYnCLdh8F8",
        "TmlmVb6T4_qz",
        "hftuIhk1nHnS",
        "fa2TwCtU6rxv"
      ],
      "authorship_tag": "ABX9TyNIZym13vM2uOxy4esQIphd"
    },
    "kernelspec": {
      "name": "python3",
      "display_name": "Python 3"
    },
    "language_info": {
      "name": "python"
    }
  },
  "cells": [
    {
      "cell_type": "markdown",
      "source": [
        "# Scraping using Geocoding API of OpenStreet Maps(OSM)<br>\n",
        "We will find address using web scrapping and using python"
      ],
      "metadata": {
        "id": "wCiYnCLdh8F8"
      }
    },
    {
      "cell_type": "code",
      "execution_count": 50,
      "metadata": {
        "id": "2H_rY3r0f13R"
      },
      "outputs": [],
      "source": [
        "# import nominatim api\n",
        "from geopy.geocoders import Nominatim"
      ]
    },
    {
      "cell_type": "code",
      "source": [
        "# activate nominatim geocoder\n",
        "locator = Nominatim(user_agent = \"http\")\n",
        "# type any address\n",
        "location = locator.geocode(\"Sree Padmanabhaswamy Temple\")"
      ],
      "metadata": {
        "id": "qf1J_dN8ip1X"
      },
      "execution_count": 51,
      "outputs": []
    },
    {
      "cell_type": "code",
      "source": [
        "# get the latitide and longitude of the place\n",
        "print(f'Address : {location.address}')\n",
        "print(f'Latitude : {location.latitude}\\nLongitude : {location.longitude}')"
      ],
      "metadata": {
        "colab": {
          "base_uri": "https://localhost:8080/"
        },
        "id": "vOeyh6xXjocm",
        "outputId": "01702dfc-d1bf-41e3-d109-01cc4eba19e2"
      },
      "execution_count": 52,
      "outputs": [
        {
          "output_type": "stream",
          "name": "stdout",
          "text": [
            "Address : Sree Padmanabhaswamy Temple, Padmavilasam Road, Padmanagar, Fort, Thiruvananthapuram, Kerala, 695001, India\n",
            "Latitude : 8.482769950000002\n",
            "Longitude : 76.94370162822179\n"
          ]
        }
      ]
    },
    {
      "cell_type": "code",
      "source": [
        "# print all the information about ebtered address thtat the API has to offer\n",
        "location.raw"
      ],
      "metadata": {
        "colab": {
          "base_uri": "https://localhost:8080/"
        },
        "id": "WQf7-nvklLzO",
        "outputId": "66765b1c-fd88-458f-98ea-9b0db56bfeb0"
      },
      "execution_count": 53,
      "outputs": [
        {
          "output_type": "execute_result",
          "data": {
            "text/plain": [
              "{'boundingbox': ['8.482634', '8.4828919', '76.9434819', '76.9439228'],\n",
              " 'class': 'amenity',\n",
              " 'display_name': 'Sree Padmanabhaswamy Temple, Padmavilasam Road, Padmanagar, Fort, Thiruvananthapuram, Kerala, 695001, India',\n",
              " 'icon': 'https://nominatim.openstreetmap.org/ui/mapicons//place_of_worship_unknown3.p.20.png',\n",
              " 'importance': 0.30100000000000005,\n",
              " 'lat': '8.482769950000002',\n",
              " 'licence': 'Data © OpenStreetMap contributors, ODbL 1.0. https://osm.org/copyright',\n",
              " 'lon': '76.94370162822179',\n",
              " 'osm_id': 480106233,\n",
              " 'osm_type': 'way',\n",
              " 'place_id': 207363957,\n",
              " 'type': 'place_of_worship'}"
            ]
          },
          "metadata": {},
          "execution_count": 53
        }
      ]
    },
    {
      "cell_type": "code",
      "source": [
        "# location 2\n",
        "my_college = locator.geocode(\"COllege Of Engineering Pune\")\n",
        "# get the latitide and longitude of the place\n",
        "print(f'Address : {my_college.address}')\n",
        "print(f'Latitude : {my_college.latitude}\\nLongitude : {my_college.longitude}')"
      ],
      "metadata": {
        "colab": {
          "base_uri": "https://localhost:8080/"
        },
        "id": "XahAzY1mmksq",
        "outputId": "ff044662-3256-4469-bad7-7135f5ad3ab4"
      },
      "execution_count": 54,
      "outputs": [
        {
          "output_type": "stream",
          "name": "stdout",
          "text": [
            "Address : College of Engineering, Pune, Old Pune–Mumbai Highway, Shivajinagar, Pune City, Pune District, Maharashtra, 411001, India\n",
            "Latitude : 18.52930005\n",
            "Longitude : 73.85682537025511\n"
          ]
        }
      ]
    },
    {
      "cell_type": "code",
      "source": [
        "my_college.raw"
      ],
      "metadata": {
        "colab": {
          "base_uri": "https://localhost:8080/"
        },
        "id": "Insq7BgpoFuw",
        "outputId": "8096ccbb-0828-4987-8092-e53fe8e1c1b7"
      },
      "execution_count": 55,
      "outputs": [
        {
          "output_type": "execute_result",
          "data": {
            "text/plain": [
              "{'boundingbox': ['18.5285846', '18.5315557', '73.8545636', '73.8586755'],\n",
              " 'class': 'amenity',\n",
              " 'display_name': 'College of Engineering, Pune, Old Pune–Mumbai Highway, Shivajinagar, Pune City, Pune District, Maharashtra, 411001, India',\n",
              " 'icon': 'https://nominatim.openstreetmap.org/ui/mapicons//education_school.p.20.png',\n",
              " 'importance': 0.7813885782638657,\n",
              " 'lat': '18.52930005',\n",
              " 'licence': 'Data © OpenStreetMap contributors, ODbL 1.0. https://osm.org/copyright',\n",
              " 'lon': '73.85682537025511',\n",
              " 'osm_id': 3718263,\n",
              " 'osm_type': 'relation',\n",
              " 'place_id': 283307234,\n",
              " 'type': 'college'}"
            ]
          },
          "metadata": {},
          "execution_count": 55
        }
      ]
    },
    {
      "cell_type": "code",
      "source": [
        ""
      ],
      "metadata": {
        "id": "ZbgvbibboVFx"
      },
      "execution_count": 55,
      "outputs": []
    },
    {
      "cell_type": "markdown",
      "source": [
        "# Get the data - BBC Weather location service<br>\n",
        "We will scrape the location ID of any place that we enter."
      ],
      "metadata": {
        "id": "UBinE920q7_X"
      }
    },
    {
      "cell_type": "code",
      "source": [
        "import os\n",
        "\n",
        "import requests # get request from webpage\n",
        "import json # convert API to json format\n",
        "\n",
        "from urllib.parse import urlencode\n",
        "import numpy as np\n",
        "import pandas as pd\n",
        "import re\n",
        "from datetime import datetime\n",
        "\n",
        "from bs4 import BeautifulSoup as bs"
      ],
      "metadata": {
        "id": "MZdh39f_rAJq"
      },
      "execution_count": 56,
      "outputs": []
    },
    {
      "cell_type": "code",
      "source": [
        "# Enter city name and convert url into compact form\n",
        "city_name = \"Pune\"\n",
        "location_url = 'https://locator-service.api.bbci.co.uk/locations?' + urlencode({'api_key': 'AGbFAKx58hyjQScCXIYrxuEwJh2W2cmv',\n",
        "    'stack': 'aws',\n",
        "    'locale': 'en',\n",
        "    'filter': 'international',\n",
        "    'place-types': 'settlement,airport,district',\n",
        "    'order': 'importance',\n",
        "    's': city_name.lower(),\n",
        "    'a': 'true',\n",
        "    'format': 'json'})\n",
        "location_url"
      ],
      "metadata": {
        "colab": {
          "base_uri": "https://localhost:8080/",
          "height": 53
        },
        "id": "I57MuwODwkD0",
        "outputId": "9fe320c2-ec4d-4208-9590-cb601fe011c6"
      },
      "execution_count": 57,
      "outputs": [
        {
          "output_type": "execute_result",
          "data": {
            "application/vnd.google.colaboratory.intrinsic+json": {
              "type": "string"
            },
            "text/plain": [
              "'https://locator-service.api.bbci.co.uk/locations?api_key=AGbFAKx58hyjQScCXIYrxuEwJh2W2cmv&stack=aws&locale=en&filter=international&place-types=settlement%2Cairport%2Cdistrict&order=importance&s=pune&a=true&format=json'"
            ]
          },
          "metadata": {},
          "execution_count": 57
        }
      ]
    },
    {
      "cell_type": "code",
      "source": [
        "# convert url into json format\n",
        "result_json = requests.get(location_url).json()\n",
        "result_json"
      ],
      "metadata": {
        "colab": {
          "base_uri": "https://localhost:8080/"
        },
        "id": "EeQ0oAwuzAWb",
        "outputId": "8e34dc3c-49c3-458f-acbd-2f500fba1492"
      },
      "execution_count": 58,
      "outputs": [
        {
          "output_type": "execute_result",
          "data": {
            "text/plain": [
              "{'response': {'results': {'results': [{'container': 'India',\n",
              "     'containerId': 1269750,\n",
              "     'country': 'IN',\n",
              "     'id': '1259229',\n",
              "     'language': 'en',\n",
              "     'latitude': 18.51957,\n",
              "     'longitude': 73.85535,\n",
              "     'name': 'Pune',\n",
              "     'placeType': 'settlement',\n",
              "     'timezone': 'Asia/Kolkata'},\n",
              "    {'container': 'India',\n",
              "     'containerId': 1269750,\n",
              "     'country': 'IN',\n",
              "     'id': '6452628',\n",
              "     'language': 'en',\n",
              "     'latitude': 18.58223,\n",
              "     'longitude': 73.91988,\n",
              "     'name': 'Pune Airport',\n",
              "     'placeType': 'airport',\n",
              "     'timezone': 'Asia/Kolkata'}],\n",
              "   'totalResults': 2}}}"
            ]
          },
          "metadata": {},
          "execution_count": 58
        }
      ]
    },
    {
      "cell_type": "code",
      "source": [
        "# we will get id from the results dictionary\n",
        "result_json['response']['results']['results'][0]['id']"
      ],
      "metadata": {
        "colab": {
          "base_uri": "https://localhost:8080/",
          "height": 35
        },
        "id": "gw19BlZ6zU7I",
        "outputId": "9f16a97e-a9db-4a5a-b6df-5489aace2632"
      },
      "execution_count": 59,
      "outputs": [
        {
          "output_type": "execute_result",
          "data": {
            "application/vnd.google.colaboratory.intrinsic+json": {
              "type": "string"
            },
            "text/plain": [
              "'1259229'"
            ]
          },
          "metadata": {},
          "execution_count": 59
        }
      ]
    },
    {
      "cell_type": "code",
      "source": [
        "# create a function to get the id\n",
        "def get_id(city):\n",
        "    city = city.lower()\n",
        "    location_url = 'https://locator-service.api.bbci.co.uk/locations?' + urlencode({'api_key': 'AGbFAKx58hyjQScCXIYrxuEwJh2W2cmv',\n",
        "    'stack': 'aws',\n",
        "    'locale': 'en',\n",
        "    'filter': 'international',\n",
        "    'place-types': 'settlement,airport,district',\n",
        "    'order': 'importance',\n",
        "    's': city,\n",
        "    'a': 'true',\n",
        "    'format': 'json'})\n",
        "    city_url_json = requests.get(location_url).json()\n",
        "    city_id = city_url_json['response']['results']['results'][0]['id']\n",
        "    return city_id\n",
        "city = \"New Delhi\"\n",
        "city_id = get_id(city)\n",
        "print(city_id)"
      ],
      "metadata": {
        "colab": {
          "base_uri": "https://localhost:8080/"
        },
        "id": "wj0oc3u96QeW",
        "outputId": "df28facc-c2b1-4f17-9619-34461f73e3e6"
      },
      "execution_count": 60,
      "outputs": [
        {
          "output_type": "stream",
          "name": "stdout",
          "text": [
            "1261481\n"
          ]
        }
      ]
    },
    {
      "cell_type": "code",
      "source": [
        "# get the url from which we are going to scrape data\n",
        "\n",
        "url = 'https://www.bbc.com/weather/' + city_id\n",
        "#print(url)\n",
        "response = requests.get(url)"
      ],
      "metadata": {
        "id": "ytDuy168y3gW"
      },
      "execution_count": 61,
      "outputs": []
    },
    {
      "cell_type": "markdown",
      "source": [
        "Initiate Beautiful Soup"
      ],
      "metadata": {
        "id": "0-cHEMAhz41N"
      }
    },
    {
      "cell_type": "code",
      "source": [
        "soup = bs(response.content, 'html.parser')\n",
        "# we can get these class by inspecting the site\n",
        "daily_high_values = soup.find_all(class_ = 'wr-day-temperature__high-value')\n",
        "daily_low_values =  soup.find_all(class_ = 'wr-day-temperature__low-value')\n",
        "\n",
        "# get gaily high temperature values\n",
        "daily_high = []\n",
        "for row in daily_high_values:\n",
        "    high = row.span.text\n",
        "    daily_high.append(high)\n",
        "print(f'Daily High temperature is: {daily_high}')\n",
        "\n",
        "# get daily low temperature values\n",
        "daily_low = []\n",
        "for row in daily_low_values:\n",
        "    low = row.span.text\n",
        "    daily_low.append(low)\n",
        "print(f'Daily Low temperature is: {daily_low}')"
      ],
      "metadata": {
        "colab": {
          "base_uri": "https://localhost:8080/"
        },
        "id": "jJ8fjqXUz8v9",
        "outputId": "785756b6-eae9-44e9-9ae8-b63bcb810016"
      },
      "execution_count": 62,
      "outputs": [
        {
          "output_type": "stream",
          "name": "stdout",
          "text": [
            "Daily High temperature is: ['17° 63°', '19° 65°', '18° 65°', '20° 68°', '21° 70°', '22° 71°', '21° 70°', '19° 67°', '19° 66°', '19° 66°', '19° 65°', '19° 66°', '19° 67°', '20° 67°']\n",
            "Daily Low temperature is: ['7° 44°', '6° 43°', '7° 44°', '8° 47°', '9° 48°', '9° 49°', '11° 51°', '9° 49°', '8° 46°', '7° 44°', '6° 43°', '6° 43°', '6° 43°', '6° 43°']\n"
          ]
        }
      ]
    },
    {
      "cell_type": "code",
      "source": [
        "daily_high[0].strip().split()[0]"
      ],
      "metadata": {
        "colab": {
          "base_uri": "https://localhost:8080/",
          "height": 35
        },
        "id": "LtQjQn4f-jWs",
        "outputId": "fb656975-cc74-49aa-bf16-a703cfe3ccb0"
      },
      "execution_count": 63,
      "outputs": [
        {
          "output_type": "execute_result",
          "data": {
            "application/vnd.google.colaboratory.intrinsic+json": {
              "type": "string"
            },
            "text/plain": [
              "'17°'"
            ]
          },
          "metadata": {},
          "execution_count": 63
        }
      ]
    },
    {
      "cell_type": "code",
      "source": [
        "daily_high = [i.strip().split()[0] for i in daily_high]\n",
        "print(f'Daily High temperature(°C) is: {daily_high}')\n",
        "\n",
        "daily_low = [i.strip().split()[0] for i in daily_low]\n",
        "print(f'Daily Low temperature(°C) is: {daily_low}')"
      ],
      "metadata": {
        "colab": {
          "base_uri": "https://localhost:8080/"
        },
        "id": "AkSWyf8m-3w_",
        "outputId": "b8b8dcdf-5c89-4f02-a059-d6845f5bbc90"
      },
      "execution_count": 64,
      "outputs": [
        {
          "output_type": "stream",
          "name": "stdout",
          "text": [
            "Daily High temperature(°C) is: ['17°', '19°', '18°', '20°', '21°', '22°', '21°', '19°', '19°', '19°', '19°', '19°', '19°', '20°']\n",
            "Daily Low temperature(°C) is: ['7°', '6°', '7°', '8°', '9°', '9°', '11°', '9°', '8°', '7°', '6°', '6°', '6°', '6°']\n"
          ]
        }
      ]
    },
    {
      "cell_type": "code",
      "source": [
        "# find summary\n",
        "daily_summary = soup.find('div', attrs={'class' : 'wr-day-summary'})\n",
        "daily_summary.text"
      ],
      "metadata": {
        "id": "ER8jG5sz65fl",
        "colab": {
          "base_uri": "https://localhost:8080/",
          "height": 70
        },
        "outputId": "6e03ee69-8b35-48e2-fec8-266bb27c99eb"
      },
      "execution_count": 65,
      "outputs": [
        {
          "output_type": "execute_result",
          "data": {
            "application/vnd.google.colaboratory.intrinsic+json": {
              "type": "string"
            },
            "text/plain": [
              "'Sunny and light windsSunny intervals and light windsSunny intervals and light windsSunny and a gentle breezeSunny intervals and light windsSunny intervals and light windsLight rain showers and light windsLight rain showers and light windsLight cloud and light windsSunny intervals and light windsSunny and light windsSunny and light windsSunny and light windsSunny and light winds'"
            ]
          },
          "metadata": {},
          "execution_count": 65
        }
      ]
    },
    {
      "cell_type": "code",
      "source": [
        "# # print(type(summary))\n",
        "# temp = \"\"\n",
        "# # for i in range(summary):\n",
        "# #     if "
      ],
      "metadata": {
        "id": "qseXzmi_8Laf"
      },
      "execution_count": 66,
      "outputs": []
    },
    {
      "cell_type": "markdown",
      "source": [
        "# Scrapping IMDB Data<br>\n",
        "We will represent 250 list of movies in a tabular form using python.<br> We will use BeautifulSoup library to scrape data from web.\n"
      ],
      "metadata": {
        "id": "TmlmVb6T4_qz"
      }
    },
    {
      "cell_type": "code",
      "source": [
        "from bs4 import BeautifulSoup as bs"
      ],
      "metadata": {
        "id": "ue-F1Tby7F5a"
      },
      "execution_count": 89,
      "outputs": []
    },
    {
      "cell_type": "code",
      "source": [
        "req = requests.get(\"https://www.imdb.com/chart/top/\")\n",
        "\n",
        "# convert to a beautiful soup object\n",
        "soup = bs(req.content)\n",
        "\n",
        "# Print out HTML\n",
        "# adds indentation to the data and created it into standard HTML format\n",
        "contents = soup.prettify() "
      ],
      "metadata": {
        "id": "66X-uC5V5b2t"
      },
      "execution_count": 90,
      "outputs": []
    },
    {
      "cell_type": "code",
      "source": [
        "movie_title = []\n",
        "movie_year = []\n",
        "movie_rating = []"
      ],
      "metadata": {
        "id": "Rb8bJjsg6lTe"
      },
      "execution_count": 91,
      "outputs": []
    },
    {
      "cell_type": "markdown",
      "source": [
        "Extract HTML Tag contents"
      ],
      "metadata": {
        "id": "z3VbzkQETzKb"
      }
    },
    {
      "cell_type": "code",
      "source": [
        "# The movie name and year are nested under the parent class \"chart full_width\"\n",
        "imdb_table = soup.find(class_ = \"chart full-width\")"
      ],
      "metadata": {
        "id": "C0XVjFB_TxK5"
      },
      "execution_count": 92,
      "outputs": []
    },
    {
      "cell_type": "code",
      "source": [
        "# tag for name of movie\n",
        "movie_title_column = imdb_table.find_all(class_ = \"titleColumn\")\n",
        "#print(movie_title_column)"
      ],
      "metadata": {
        "id": "k5ZhkoGPUjMf"
      },
      "execution_count": 93,
      "outputs": []
    },
    {
      "cell_type": "code",
      "source": [
        "# tag for IMDB rating of movie\n",
        "movie_rating_columns = imdb_table.find_all(class_ = \"ratingColumn imdbRating\")"
      ],
      "metadata": {
        "id": "wkagnfmZVQxc"
      },
      "execution_count": 94,
      "outputs": []
    },
    {
      "cell_type": "code",
      "source": [
        "# Extract the titles of movies from movie_title_column\n",
        "for row in movie_title_column:\n",
        "    title = row.a.text # extract the text from tag \"a\"\n",
        "    movie_title.append(title)\n",
        "#movie_title = list(movie_title)\n",
        "len(movie_title)"
      ],
      "metadata": {
        "colab": {
          "base_uri": "https://localhost:8080/"
        },
        "id": "lgJHt-rIVxsH",
        "outputId": "e17b9434-9007-4476-a66a-84042dd6417d"
      },
      "execution_count": 95,
      "outputs": [
        {
          "output_type": "execute_result",
          "data": {
            "text/plain": [
              "250"
            ]
          },
          "metadata": {},
          "execution_count": 95
        }
      ]
    },
    {
      "cell_type": "code",
      "source": [
        "movie_title[:10] # Movie"
      ],
      "metadata": {
        "id": "R-KVRWZlXXR8",
        "colab": {
          "base_uri": "https://localhost:8080/"
        },
        "outputId": "4f1d6f14-8d38-4a60-84bc-a875fcadb1f1"
      },
      "execution_count": 96,
      "outputs": [
        {
          "output_type": "execute_result",
          "data": {
            "text/plain": [
              "['The Shawshank Redemption',\n",
              " 'The Godfather',\n",
              " 'The Godfather: Part II',\n",
              " 'The Dark Knight',\n",
              " '12 Angry Men',\n",
              " \"Schindler's List\",\n",
              " 'The Lord of the Rings: The Return of the King',\n",
              " 'Pulp Fiction',\n",
              " 'The Good, the Bad and the Ugly',\n",
              " 'The Lord of the Rings: The Fellowship of the Ring']"
            ]
          },
          "metadata": {},
          "execution_count": 96
        }
      ]
    },
    {
      "cell_type": "code",
      "source": [
        "# Extract the year of the movir release\n",
        "for row in movie_title_column:\n",
        "    year = row.span.text # tag for movie year\n",
        "    movie_year.append(year)"
      ],
      "metadata": {
        "id": "d4SRCTBGYVke"
      },
      "execution_count": 97,
      "outputs": []
    },
    {
      "cell_type": "code",
      "source": [
        "movie_year[:10] # Year"
      ],
      "metadata": {
        "id": "x3x9nLzTZWZT",
        "colab": {
          "base_uri": "https://localhost:8080/"
        },
        "outputId": "ddd62ef9-fd59-4e50-d3cc-3118cb2d684c"
      },
      "execution_count": 98,
      "outputs": [
        {
          "output_type": "execute_result",
          "data": {
            "text/plain": [
              "['(1994)',\n",
              " '(1972)',\n",
              " '(1974)',\n",
              " '(2008)',\n",
              " '(1957)',\n",
              " '(1993)',\n",
              " '(2003)',\n",
              " '(1994)',\n",
              " '(1966)',\n",
              " '(2001)']"
            ]
          },
          "metadata": {},
          "execution_count": 98
        }
      ]
    },
    {
      "cell_type": "code",
      "source": [
        "# Extract the imbd rating\n",
        "for row in movie_rating_columns:\n",
        "    rating = row.strong.text # \"strong\" is tag for rating\n",
        "    movie_rating.append(rating)"
      ],
      "metadata": {
        "id": "vJ-Pr2ZRZVzq"
      },
      "execution_count": 99,
      "outputs": []
    },
    {
      "cell_type": "code",
      "source": [
        "movie_rating[:10] # IMDB"
      ],
      "metadata": {
        "id": "HMB48kj_Z8JU",
        "colab": {
          "base_uri": "https://localhost:8080/"
        },
        "outputId": "6359ab34-0552-4fac-8d1b-54c61409bd80"
      },
      "execution_count": 100,
      "outputs": [
        {
          "output_type": "execute_result",
          "data": {
            "text/plain": [
              "['9.2', '9.1', '9.0', '9.0', '8.9', '8.9', '8.9', '8.8', '8.8', '8.8']"
            ]
          },
          "metadata": {},
          "execution_count": 100
        }
      ]
    },
    {
      "cell_type": "markdown",
      "source": [
        "Merge all in a single data frame"
      ],
      "metadata": {
        "id": "77TcTDVIaGZN"
      }
    },
    {
      "cell_type": "code",
      "source": [
        "movie_df = pd.DataFrame({\"Movie Name\" : movie_title, \"Year of Release\" : movie_year, \"IMDB Rating\" : movie_rating})\n",
        "movie_df.head(10)"
      ],
      "metadata": {
        "colab": {
          "base_uri": "https://localhost:8080/",
          "height": 363
        },
        "id": "sR3a3abTZ9iz",
        "outputId": "c122e7c2-4d83-4eac-c5fb-b902a3d63e9b"
      },
      "execution_count": 101,
      "outputs": [
        {
          "output_type": "execute_result",
          "data": {
            "text/html": [
              "\n",
              "  <div id=\"df-b4b940ae-9347-48fe-a17d-49b28a96a756\">\n",
              "    <div class=\"colab-df-container\">\n",
              "      <div>\n",
              "<style scoped>\n",
              "    .dataframe tbody tr th:only-of-type {\n",
              "        vertical-align: middle;\n",
              "    }\n",
              "\n",
              "    .dataframe tbody tr th {\n",
              "        vertical-align: top;\n",
              "    }\n",
              "\n",
              "    .dataframe thead th {\n",
              "        text-align: right;\n",
              "    }\n",
              "</style>\n",
              "<table border=\"1\" class=\"dataframe\">\n",
              "  <thead>\n",
              "    <tr style=\"text-align: right;\">\n",
              "      <th></th>\n",
              "      <th>Movie Name</th>\n",
              "      <th>Year of Release</th>\n",
              "      <th>IMDB Rating</th>\n",
              "    </tr>\n",
              "  </thead>\n",
              "  <tbody>\n",
              "    <tr>\n",
              "      <th>0</th>\n",
              "      <td>The Shawshank Redemption</td>\n",
              "      <td>(1994)</td>\n",
              "      <td>9.2</td>\n",
              "    </tr>\n",
              "    <tr>\n",
              "      <th>1</th>\n",
              "      <td>The Godfather</td>\n",
              "      <td>(1972)</td>\n",
              "      <td>9.1</td>\n",
              "    </tr>\n",
              "    <tr>\n",
              "      <th>2</th>\n",
              "      <td>The Godfather: Part II</td>\n",
              "      <td>(1974)</td>\n",
              "      <td>9.0</td>\n",
              "    </tr>\n",
              "    <tr>\n",
              "      <th>3</th>\n",
              "      <td>The Dark Knight</td>\n",
              "      <td>(2008)</td>\n",
              "      <td>9.0</td>\n",
              "    </tr>\n",
              "    <tr>\n",
              "      <th>4</th>\n",
              "      <td>12 Angry Men</td>\n",
              "      <td>(1957)</td>\n",
              "      <td>8.9</td>\n",
              "    </tr>\n",
              "    <tr>\n",
              "      <th>5</th>\n",
              "      <td>Schindler's List</td>\n",
              "      <td>(1993)</td>\n",
              "      <td>8.9</td>\n",
              "    </tr>\n",
              "    <tr>\n",
              "      <th>6</th>\n",
              "      <td>The Lord of the Rings: The Return of the King</td>\n",
              "      <td>(2003)</td>\n",
              "      <td>8.9</td>\n",
              "    </tr>\n",
              "    <tr>\n",
              "      <th>7</th>\n",
              "      <td>Pulp Fiction</td>\n",
              "      <td>(1994)</td>\n",
              "      <td>8.8</td>\n",
              "    </tr>\n",
              "    <tr>\n",
              "      <th>8</th>\n",
              "      <td>The Good, the Bad and the Ugly</td>\n",
              "      <td>(1966)</td>\n",
              "      <td>8.8</td>\n",
              "    </tr>\n",
              "    <tr>\n",
              "      <th>9</th>\n",
              "      <td>The Lord of the Rings: The Fellowship of the Ring</td>\n",
              "      <td>(2001)</td>\n",
              "      <td>8.8</td>\n",
              "    </tr>\n",
              "  </tbody>\n",
              "</table>\n",
              "</div>\n",
              "      <button class=\"colab-df-convert\" onclick=\"convertToInteractive('df-b4b940ae-9347-48fe-a17d-49b28a96a756')\"\n",
              "              title=\"Convert this dataframe to an interactive table.\"\n",
              "              style=\"display:none;\">\n",
              "        \n",
              "  <svg xmlns=\"http://www.w3.org/2000/svg\" height=\"24px\"viewBox=\"0 0 24 24\"\n",
              "       width=\"24px\">\n",
              "    <path d=\"M0 0h24v24H0V0z\" fill=\"none\"/>\n",
              "    <path d=\"M18.56 5.44l.94 2.06.94-2.06 2.06-.94-2.06-.94-.94-2.06-.94 2.06-2.06.94zm-11 1L8.5 8.5l.94-2.06 2.06-.94-2.06-.94L8.5 2.5l-.94 2.06-2.06.94zm10 10l.94 2.06.94-2.06 2.06-.94-2.06-.94-.94-2.06-.94 2.06-2.06.94z\"/><path d=\"M17.41 7.96l-1.37-1.37c-.4-.4-.92-.59-1.43-.59-.52 0-1.04.2-1.43.59L10.3 9.45l-7.72 7.72c-.78.78-.78 2.05 0 2.83L4 21.41c.39.39.9.59 1.41.59.51 0 1.02-.2 1.41-.59l7.78-7.78 2.81-2.81c.8-.78.8-2.07 0-2.86zM5.41 20L4 18.59l7.72-7.72 1.47 1.35L5.41 20z\"/>\n",
              "  </svg>\n",
              "      </button>\n",
              "      \n",
              "  <style>\n",
              "    .colab-df-container {\n",
              "      display:flex;\n",
              "      flex-wrap:wrap;\n",
              "      gap: 12px;\n",
              "    }\n",
              "\n",
              "    .colab-df-convert {\n",
              "      background-color: #E8F0FE;\n",
              "      border: none;\n",
              "      border-radius: 50%;\n",
              "      cursor: pointer;\n",
              "      display: none;\n",
              "      fill: #1967D2;\n",
              "      height: 32px;\n",
              "      padding: 0 0 0 0;\n",
              "      width: 32px;\n",
              "    }\n",
              "\n",
              "    .colab-df-convert:hover {\n",
              "      background-color: #E2EBFA;\n",
              "      box-shadow: 0px 1px 2px rgba(60, 64, 67, 0.3), 0px 1px 3px 1px rgba(60, 64, 67, 0.15);\n",
              "      fill: #174EA6;\n",
              "    }\n",
              "\n",
              "    [theme=dark] .colab-df-convert {\n",
              "      background-color: #3B4455;\n",
              "      fill: #D2E3FC;\n",
              "    }\n",
              "\n",
              "    [theme=dark] .colab-df-convert:hover {\n",
              "      background-color: #434B5C;\n",
              "      box-shadow: 0px 1px 3px 1px rgba(0, 0, 0, 0.15);\n",
              "      filter: drop-shadow(0px 1px 2px rgba(0, 0, 0, 0.3));\n",
              "      fill: #FFFFFF;\n",
              "    }\n",
              "  </style>\n",
              "\n",
              "      <script>\n",
              "        const buttonEl =\n",
              "          document.querySelector('#df-b4b940ae-9347-48fe-a17d-49b28a96a756 button.colab-df-convert');\n",
              "        buttonEl.style.display =\n",
              "          google.colab.kernel.accessAllowed ? 'block' : 'none';\n",
              "\n",
              "        async function convertToInteractive(key) {\n",
              "          const element = document.querySelector('#df-b4b940ae-9347-48fe-a17d-49b28a96a756');\n",
              "          const dataTable =\n",
              "            await google.colab.kernel.invokeFunction('convertToInteractive',\n",
              "                                                     [key], {});\n",
              "          if (!dataTable) return;\n",
              "\n",
              "          const docLinkHtml = 'Like what you see? Visit the ' +\n",
              "            '<a target=\"_blank\" href=https://colab.research.google.com/notebooks/data_table.ipynb>data table notebook</a>'\n",
              "            + ' to learn more about interactive tables.';\n",
              "          element.innerHTML = '';\n",
              "          dataTable['output_type'] = 'display_data';\n",
              "          await google.colab.output.renderOutput(dataTable, element);\n",
              "          const docLink = document.createElement('div');\n",
              "          docLink.innerHTML = docLinkHtml;\n",
              "          element.appendChild(docLink);\n",
              "        }\n",
              "      </script>\n",
              "    </div>\n",
              "  </div>\n",
              "  "
            ],
            "text/plain": [
              "                                          Movie Name  ... IMDB Rating\n",
              "0                           The Shawshank Redemption  ...         9.2\n",
              "1                                      The Godfather  ...         9.1\n",
              "2                             The Godfather: Part II  ...         9.0\n",
              "3                                    The Dark Knight  ...         9.0\n",
              "4                                       12 Angry Men  ...         8.9\n",
              "5                                   Schindler's List  ...         8.9\n",
              "6      The Lord of the Rings: The Return of the King  ...         8.9\n",
              "7                                       Pulp Fiction  ...         8.8\n",
              "8                     The Good, the Bad and the Ugly  ...         8.8\n",
              "9  The Lord of the Rings: The Fellowship of the Ring  ...         8.8\n",
              "\n",
              "[10 rows x 3 columns]"
            ]
          },
          "metadata": {},
          "execution_count": 101
        }
      ]
    },
    {
      "cell_type": "markdown",
      "source": [
        "# Scrapping Wikipedia"
      ],
      "metadata": {
        "id": "hftuIhk1nHnS"
      }
    },
    {
      "cell_type": "code",
      "source": [
        "# import wikipedia library\n",
        "!pip install wikipedia\n",
        "import wikipedia as wk"
      ],
      "metadata": {
        "id": "sOU49bqRnLKk",
        "colab": {
          "base_uri": "https://localhost:8080/"
        },
        "outputId": "9ec48574-5016-4e77-a3aa-8c0995998ea7"
      },
      "execution_count": 102,
      "outputs": [
        {
          "output_type": "stream",
          "name": "stdout",
          "text": [
            "Requirement already satisfied: wikipedia in /usr/local/lib/python3.7/dist-packages (1.4.0)\n",
            "Requirement already satisfied: requests<3.0.0,>=2.0.0 in /usr/local/lib/python3.7/dist-packages (from wikipedia) (2.23.0)\n",
            "Requirement already satisfied: beautifulsoup4 in /usr/local/lib/python3.7/dist-packages (from wikipedia) (4.6.3)\n",
            "Requirement already satisfied: chardet<4,>=3.0.2 in /usr/local/lib/python3.7/dist-packages (from requests<3.0.0,>=2.0.0->wikipedia) (3.0.4)\n",
            "Requirement already satisfied: certifi>=2017.4.17 in /usr/local/lib/python3.7/dist-packages (from requests<3.0.0,>=2.0.0->wikipedia) (2021.10.8)\n",
            "Requirement already satisfied: idna<3,>=2.5 in /usr/local/lib/python3.7/dist-packages (from requests<3.0.0,>=2.0.0->wikipedia) (2.10)\n",
            "Requirement already satisfied: urllib3!=1.25.0,!=1.25.1,<1.26,>=1.21.1 in /usr/local/lib/python3.7/dist-packages (from requests<3.0.0,>=2.0.0->wikipedia) (1.24.3)\n"
          ]
        }
      ]
    },
    {
      "cell_type": "code",
      "source": [
        "# search any keyword\n",
        "print(wk.search(\"COEP\"))"
      ],
      "metadata": {
        "colab": {
          "base_uri": "https://localhost:8080/"
        },
        "id": "yGBGKrcUnM2P",
        "outputId": "8470adb9-43b0-445e-d3a0-07d90bd32f44"
      },
      "execution_count": 103,
      "outputs": [
        {
          "output_type": "stream",
          "name": "stdout",
          "text": [
            "['College of Engineering, Pune', 'Sindhutai Sapkal', 'Anil Sahasrabudhe', 'Maharashtra', 'List of Indian engineering colleges before Independence', 'Prohibition in the United States', 'Community organizing', 'List of Maharashtra Government Engineering Colleges', 'Swayam', 'Thermo Fisher Scientific']\n"
          ]
        }
      ]
    },
    {
      "cell_type": "code",
      "source": [
        "print(wk.search(\"COEP\", results = 3))"
      ],
      "metadata": {
        "colab": {
          "base_uri": "https://localhost:8080/"
        },
        "id": "zhzs98TInxlo",
        "outputId": "47686d7d-a34e-47ac-c4ec-d6d1f4f499d4"
      },
      "execution_count": 104,
      "outputs": [
        {
          "output_type": "stream",
          "name": "stdout",
          "text": [
            "['College of Engineering, Pune', 'Sindhutai Sapkal', 'Anil Sahasrabudhe']\n"
          ]
        }
      ]
    },
    {
      "cell_type": "code",
      "source": [
        "print(wk.summary(\"College Of Engineering Pune\"))"
      ],
      "metadata": {
        "colab": {
          "base_uri": "https://localhost:8080/"
        },
        "id": "R86oiJfyoVzv",
        "outputId": "5d146ee1-94c5-4dff-9193-26ad41b9492f"
      },
      "execution_count": 105,
      "outputs": [
        {
          "output_type": "stream",
          "name": "stdout",
          "text": [
            "College of Engineering Pune (COEP), is an autonomous institute of the Government of Maharashtra, situated in Pune, Maharashtra, India. Established in 1854 it is the 3rd oldest engineering college in India, after IIT Roorkee (1847) and College of Engineering, Guindy, Chennai (1859). The students and alumni of College of Engineering, Pune are colloquially referred to as COEPians. It was the first technical institution in India to offer mechanical engineering.\n"
          ]
        }
      ]
    },
    {
      "cell_type": "code",
      "source": [
        "print(wk.summary(\"College Of Engineering Pune\", sentences = 2))"
      ],
      "metadata": {
        "colab": {
          "base_uri": "https://localhost:8080/"
        },
        "id": "SP-MdOC7opQq",
        "outputId": "6558b828-7db4-4299-a79a-f7afdccd2233"
      },
      "execution_count": 106,
      "outputs": [
        {
          "output_type": "stream",
          "name": "stdout",
          "text": [
            "College of Engineering Pune (COEP), is an autonomous institute of the Government of Maharashtra, situated in Pune, Maharashtra, India. Established in 1854 it is the 3rd oldest engineering college in India, after IIT Roorkee (1847) and College of Engineering, Guindy, Chennai (1859).\n"
          ]
        }
      ]
    },
    {
      "cell_type": "code",
      "source": [
        "# to get complete page\n",
        "coep_page = wk.page(\"College Of Engineering Pune\")\n",
        "print(coep_page.content)"
      ],
      "metadata": {
        "colab": {
          "base_uri": "https://localhost:8080/"
        },
        "id": "1G3SEVbApYXR",
        "outputId": "955ae471-dc75-4529-d587-db804a384114"
      },
      "execution_count": 107,
      "outputs": [
        {
          "output_type": "stream",
          "name": "stdout",
          "text": [
            "College of Engineering Pune (COEP), is an autonomous institute of the Government of Maharashtra, situated in Pune, Maharashtra, India. Established in 1854 it is the 3rd oldest engineering college in India, after IIT Roorkee (1847) and College of Engineering, Guindy, Chennai (1859). The students and alumni of College of Engineering, Pune are colloquially referred to as COEPians. It was the first technical institution in India to offer mechanical engineering.\n",
            "\n",
            "\n",
            "== History ==\n",
            "\n",
            "The college was one of the first few colleges established by the British to serve the Indian subcontinent. The foundation stone of the new college was laid by the Governor of Bombay, Sir Bartle Frere, who was to become the Vice-Chancellor of the University, on 5 August 1865. In June of the following year, Theodore Cooke M.A., was appointed the Principal. He went on to hold the office for next 28 years.\n",
            "\n",
            "Initially, it was started on 16 December 1854, to train public works department (PWD) officials and was housed in three bungalows as the 'Poona Engineering and Mechanical School' to train subordinate officers for carrying out public works like buildings, dams, canals, railways and bridges. In July 1857, Henry Coke was given the charge of the institute. Admission was open to all, irrespective of nationality or caste. Good proficiency in English and basic knowledge of Mathematics were a prerequisite for getting admitted to the institute. The process of admission required that the aspiring candidate apply to the nearest government English school, to whom the entrance examination papers were handed over. The headmaster would take the examination on a date deemed convenient to him and submit the answer sheets to Henry Coke, the in-charge of the mechanical school. After examining the papers, Coke would notify the headmaster of the school with the names of candidates who were deemed fit for admission. Scholarships of ₹ 6 were offered per month after a period of six months of training in the mechanical school for fifteen students. The courses offered included Mathematics, Drawing, Surveying and levelling, building and construction and setting out works on the ground. The course would run for a period of two years.Later on, in the year 1864, the school became the \"Poona Civil Engineering College\". The number of courses were increased to include forestry and agricultural subjects, which led to its name being changed to Poona College of Science. The college was inaugurated at the new premises on 5 August 1865, at the hands of then governor Sir Bertel Ferre. It started a course in licensed and civil engineering (LCE) and trained masons and overseers. Later it secured affiliation to the Bombay university. The course was revised in 1886 and the minimum criteria required for admission was raised from Matriculation to the then Previous Examination.\n",
            "In 1909, the LCE was converted into the BE degree and the first batch of students passed out in 1912. The name 'Government college of engineering, Pune' was taken up only in 1911. All non-engineering courses were stopped by 1911, transferring the Bachelor of Science degree to the Science Institute of Bombay and subsequently in the year 1911, the name was changed to the \"Government College of Engineering, Poona\".\n",
            "The institution was initially affiliated to the University of Bombay (now Mumbai) for a degree of Licentiate in Civil Engineering known as LCE in 1858. The certificate course was converted into a degree course and the first class of the Bachelor of Engineering degree graduated in the year 1912. After the University of Poona (now Savitribai Phule Pune University) was established in 1948, the college became affiliated to the new university. In 1968, the three-year degree was extended to 4 years constituting 8 semesters.\n",
            "In 2003, the institute was granted complete autonomy by the State Government of Maharashtra, thus giving it the freedom to set its own curriculum and manage its own finances. With permanent affiliation to the Savitribai Phule Pune University, the institute now is an autonomous engineering school. This has been the biggest change as far as pedagogy at COEP is concerned. The following years have seen a multitude of positive changes in administration and academic strategies. Many of these have been responsible for the growing innovation in project work of college students. The institute contends that its autonomy now grants it greater flexibility in dynamically changing its syllabus to suit the changing needs of the industry.\n",
            "In a bid to boost research in engineering and postdoctoral research, the College of Engineering Pune (CoEP) is granted an additional campus on government land located in Nigdi Pradhikaran. Extended campus in Pradhikaran is having area of 40 acres.\n",
            "In academic year 2020-21 institute also commenced full time degree course in management under faculty of Management.\n",
            "\n",
            "\n",
            "== Campus ==\n",
            "\n",
            "\n",
            "=== The Main Hall ===\n",
            "The main hall is the present day administrative building of the College. It houses the Director, the Dean Academic Affairs, the Dean Student Affairs, the Gymkhana, the Examination cell and other various important administrative heads of the college. The original building was almost three floors tall with a base floor length of 18 meters and a width of 9 metres. The hall was recently refurbished and the inauguration of the restored heritage building (pictured below) took place on 24 March 2012 by Sharad Pawar, Minister of Agriculture, Government of India.\n",
            "\n",
            "\n",
            "== Academics ==\n",
            "\n",
            "\n",
            "=== Admissions ===\n",
            "\n",
            "\n",
            "==== Undergraduate ====\n",
            "Undergraduate admissions to the College of Engineering, Pune are competitive and are based on merit. Earlier admissions were based upon the percentage of science subjects' marks secured in Higher Secondary Certificate exam of Maharashtra state and later on the basis of marks scored in Maharashtra Common Entrance Test. However, at present the admissions are conducted on the basis of the marks secured in Maharashtra CET and HSC board combined. These admissions are conducted by the Directorate of Technical Education (DTE) through the Centralized Admission Process (CAP). Affirmative action programs exist for students belonging to socially and economically backward classes as stipulated in the Constitution of India and various statutes. There are programs for students from north-eastern India and Indian citizens from Kashmir. There are also programs for children of people working in Gulf countries, foreign nationals, foreign students and Person of Indian Origin (PIO) in the college. Non-Resident Indians can also apply for the courses. For the year 2015–16 this quota is applicable for admissions to Walchand College of Engineering, Sangli and Laxminarayan Institute of Technology. The reservations for different categories are based on the Government of India and Government of Maharashtra rules.\n",
            "Reservations in seats are provided for SC (Schedule Caste), ST (Schedule Tribes), NT (Nomadic Tribes), OBC (Other Backward Classes), PH (Physically Handicapped) as well as female candidates. It has been included in the Guinness Book of world records, several admissions to direct second year of BTech course are also conducted for those candidates who have completed Diploma in Engineering at different polytechnic institutes in the state of Maharashtra. These admissions are conducted through the Centralized Admission Process (CAP) by DTE itself.\n",
            "\n",
            "\n",
            "==== Postgraduate and Doctorate ====\n",
            "Postgraduate admissions to the College of Engineering, Pune are also on merit basis. The M.tech admissions are on the basis of the Graduate Aptitude Test in Engineering (GATE) conducted by the seven old IITs and the IISc. Seat reservations are applicable as per the Government of Maharashtra rules.\n",
            "The college also provides Doctor of Philosophy (PhD) programmes in various fields.\n",
            "Department of Applied Sciences is recognised as PhD research centre by S.P. Pune University in the subjects of Environmental Sciences and Chemistry.\n",
            "\n",
            "\n",
            "=== Rankings ===\n",
            "COEP was ranked 15 among engineering colleges in India by Outlook India in 2019. The National Institutional Ranking Framework (NIRF) ranked it 50th in the engineering ranking in 2020 and 101-150 overall. It has been ranked number one among the top five government institutions in Atal Ranking of Institutions on Innovation Achievement (ARIIA) in 2020.\n",
            "\n",
            "\n",
            "== Student life ==\n",
            "\n",
            "\n",
            "=== MindSpark ===\n",
            "\n",
            "MindSpark is the national level annual technical festival hosted by the college and established in 2007. The idea behind MindSpark originated from the need to unite various departmental level festivals that were scattered across the academic calendar. It features about 50 events across various disciplines of engineering and has been backed by the support of industrial sponsors who also associate with COEP for placement. This event is usually scheduled in an odd semester (around September) and is of 3 days (usually weekend).\n",
            "\n",
            "\n",
            "=== Regatta ===\n",
            "\n",
            "Regetta is an annual regatta hosted by the College of Engineering, Pune. Since its inception in 1928, it has showcased around 165 boats, notably the Eighter, which is one of the oldest boats. The 92nd edition of Regatta was held on 8 March 2020. Unlike a Regatta which means a collection of boat races, COEP Boat Club's Regatta is a show of various kinds of boats, kayaks, punts, shell boats and scull boats. The events in this show are Telematches, Kayak Ballet, Shell Games, Punt Formation, Mashaal Dance and the Arrow formation.\n",
            "\n",
            "\n",
            "=== Cultural activities & Fests – Impressions ===\n",
            " \n",
            "COEP participates in various cultural competitions like Firodiya Karandak, Purushottam Karandak, and  Mood Indigo (festival).\n",
            "In 2016, COEP started its first ever Cultural Fest, Impressions, which is held every year in the 2nd week of December and lasts for 3 days. Impressions was formed as a platform \"For the Artists, By the Artists\", to provide opportunities for people from the fields of Dance, Music, Theater, Art, and Fashion to display their talent. The events span over six main modules, namely – Dance, Music, Arts and Crafts, Dramatics, Photography, and Writing.\n",
            "\n",
            "\n",
            "=== Sesquicentenary celebrations ===\n",
            "In 2004, COEP celebrated 150 years of its existence. The celebrations were marked by a visit by the Hon. Ex-President of India, Dr. APJ Abdul Kalam. A postage stamp to mark the 150th anniversary of the college was released.\n",
            "\n",
            "\n",
            "=== Participation in Guinness World Records ===\n",
            "The college has made three entries so far in the Guinness World Record books. It holds the record for \"Most people skipping on the same rope\", which still stands as the world record and \"The longest painting by numbers\"On 4 November 2012, 3248 people solved the Rubik's cube at the same time for breaking the Guinness world record for \"Most number of people solving the Rubik's cube\". It was previously held by IITB, where 937 students solved the puzzle within 30 minutes in March 2012.\n",
            "\n",
            "\n",
            "=== Team Nemesis Racing (BAJA Competition) ===\n",
            "Baja Competition is an event which comprises designing, fabricating, assembling an all-terrain four wheeler vehicle and running it on a specially prepared torturous track in a grueling competition for four hours.\n",
            "The College team was declared the overall winner at the Baja SAE India contest 2013 held at Pithampur, near Indore at the National Automotive Testing and R&D Infrastructure Project. The team also won the Best Acceleration, the Raftaar award, Computer-aided engineering award, Best Build Quality, Endurance winner awards.\n",
            "BAJA 2015 witnessed COEP starting at the pole position in the race consecutively for the fourth time by being the fastest vehicle. COEP received a total of following 9 awards in BAJA competition 2015, Overall-1st, Durability −1st, Acceleration-1st, Hill Climb-1st, Raftaar-1st, Innovation-2nd, CAE −2nd, Build Quality- 2nd, Safest Vehicle −2nd.\n",
            "BAJA 2016 was held at Pithampur, Indore on 21 February 2016. COEP started at the pole position in the race consecutively for the fifth time by being the fastest vehicle. Out of the 14 award categories, COEP won 11 awards in BAJA competition 2016 retaining the Overall Championship.COEP team Nemesis won overall championship at BAJA 2017 competition creating a hat trick of records.  In the 10th edition of Mahindra BAJA, a total of 415 entries applied for the event from 185 colleges that participated at a virtual stage, out of which 150 teams were selected for m- BAJA, while 35 teams for eBAJA. In the final round or the endurance test, 118 teams participated in the competition which was held from 16 to 21 February 2017 at the NATRIP facility in Pithampur, Indore.  Out of the 12 award categories, COEP won 7 awards in BAJA competition 2017 retaining the Overall Championship.\n",
            "\n",
            "\n",
            "=== COEP robotics team ===\n",
            "COEP's Robotics Team is represented by the Robot Study Circle (RSC). The Club has industrial collaboration with Siemens PLM as a title sponsor, Janatics Pneumatics, Schmalz India, Pepperl & Fuchs, and Robolab Technologies. Members of RSC are members of the first ever institute student chapter of THE ROBOTICS SOCIETY established in India at College of Engineering Pune. The robotics team has a number of awards and in 2017 team won the national ABU Robocon, going on to represent India in International Robocon held at Tokyo, Japan. RSC placed 6th.\n",
            "\n",
            "\n",
            "=== COEP Satellite team ===\n",
            "The satellite team also known as CSAT is CoEP's satellite initiative. They successfully worked on project Swayam a 1-U picosatellite which was launched by ISRO on 22 June 2016.\n",
            "After the successful launch of Swayam, CSAT is now working on its next mission: an experiment for alternate means of space travel with the help of solar sails.\n",
            "\n",
            "\n",
            "== Notable alumni ==\n",
            "\n",
            "Sir Mokshagundam Visvesvarayya (1861–1962), recipient of Bharat Ratna and Knighthood, eminent engineer and statesman\n",
            "Thomas Kailath, emeritus professor of engineering at Stanford University, winner of the IEEE Shannon Award and US National Medal of Science\n",
            "C. Kumar N. Patel, Vice Chancellor for Research at the University of California, Los Angeles, inventor of the carbon-dioxide laser, winner of the United States National Medal of Science\n",
            "Baburao Govindrao Shirke, Founder of B. G. Shirke & Company\n",
            "Nitin Paranjpe, President of the Foods & Refreshment Division of Unilever\n",
            "Laxman Narasimhan, an Indian-American business executive, who is the chief executive of Reckitt Benckiser, having previously been chief commercial officer at PepsiCo.\n",
            "Rajiv Bajaj, Managing Director of Bajaj Auto: One of the largest two-wheeler manufacturer in India\n",
            "Sumant Moolgaokar, Padma Bhushan, he was an Indian industrialist, known as architect of Tata Motors. He was the chief executive of Tata Engineering and Locomotive Company (TELCO). He also remained Vice-Chairman of Tata Steel  and served as non-executive chairman of Maruti Suzuki.\n",
            "Ramesh Raskar, Associate Professor at Massachusetts Institute of Technology, Director of MIT Media Lab's Camera Culture group and developer of a high-speed femto-camera that captures pictures of light.\n",
            "Sandeep Johri, technology executive and serial entrepreneur, CEO of Tricentis\n",
            "Vijay Kelkar, Padma Vibhushan, Advisor to the Finance Minister, Government of India in the rank of a Minister of State, Chairman, National Stock Exchange of India\n",
            "Aravind Joshi, emeritus professor of Computer and Cognitive Science at the University of Pennsylvania.\n",
            "Lila Poonawalla, Padma Shri, an Indian industrialist, philanthropist, humanitarian. First Woman Engineer graduating from the Mechanical stream.\n",
            "Sanjay Govind Dhande, Padma Shri, an Indian engineer and educationist. He was director of the Indian Institute of Technology Kanpur.\n",
            "Suhas V Patankar, pioneer in the field of computational fluid dynamics (CFD) and Finite volume method. Notable as the co-developer of the SIMPLE algorithm in the field of Computational Fluid Dynamics (CFD). He is currently a Professor Emeritus at the University of Minnesota.\n",
            "Gaur Gopal Das, an Indian monk, motivational speaker and lifestyle coach.\n",
            "Vikas Kharage, IAS, Principal Secretary to the Chief Minister of Maharashtra. 34th rank in the country and 1st in Maharashtra of 1994 batch. Recipient of 'COEP Abhiman' Alumni Award.\n",
            "\n",
            "\n",
            "== Controversies ==\n",
            "\n",
            "\n",
            "=== Land acquisition ===\n",
            "In December 2005 the Pune Municipal Corporation asked the college for some of its land for road widening. This led to considerable outrage amongst students, and the issue was under heated debate. It was pointed out that the college was classified as a 'heritage complex' by the state government.\n",
            "\n",
            "\n",
            "=== Renaming ===\n",
            "1854–1870: Poona Engineering Class and Mechanical School1871–1911: Government Science College (Agriculture and Botany Classes)1911–2003: Government College of Engineering, Pune2003–2006: Pune Institute of Engineering and Technology2006 onwards: College of Engineering, Pune\n",
            "In 2000, COEP claimed independence from the state government and was declared an autonomous institute in 2003. Considerable confusion ensued over a proposed name change from COEP to Pune Institute of Engineering and Technology (PIET) which was strongly opposed by alumni and students. The newly autonomous entity's name was rolled back to COEP in November 2005.\n",
            "\n",
            "\n",
            "=== Road widening and flyover construction ===\n",
            "The College was at loggerheads with the Pune Municipal Corporation over the proposed construction of a flyover in front of the college, that would not only deface the renovated Main Hall but would also encroach upon the College's premises. The College and its alumni were of the opinion that the flyover would not, in any way, decongest the traffic plying through that road. It also considered the flyover as serious danger to the safety of the pedestrians, including students, as it was not considered in the plan of the flyover. Many civic activists and organisations supported the College's opinion.\n",
            "\n",
            "\n",
            "== See also ==\n",
            "Government College of Engineering, Nagpur\n",
            "Government College of Engineering, Amravati\n",
            "Government College of Engineering, Aurangabad\n",
            "Government College of Engineering, Chandrapur\n",
            "Government College of Engineering, Karad\n",
            "Shri Guru Gobind Singhji Institute of Engineering and Technology, Nanded\n",
            "Government College Of Engineering And Research, Avasari Khurd\n",
            "\n",
            "\n",
            "== References ==\n",
            "\n",
            "\n",
            "== External links ==\n",
            "College of Engineering, Pune – Our Official web site\n"
          ]
        }
      ]
    },
    {
      "cell_type": "code",
      "source": [
        "# get url of page\n",
        "print(coep_page.url)"
      ],
      "metadata": {
        "colab": {
          "base_uri": "https://localhost:8080/"
        },
        "id": "k6PMuD_6pkvJ",
        "outputId": "f3de6c5f-8a4c-4a9a-ea51-f7c1b9b6ecff"
      },
      "execution_count": 108,
      "outputs": [
        {
          "output_type": "stream",
          "name": "stdout",
          "text": [
            "https://en.wikipedia.org/wiki/College_of_Engineering,_Pune\n"
          ]
        }
      ]
    },
    {
      "cell_type": "code",
      "source": [
        "# get title of page\n",
        "print(coep_page.title)"
      ],
      "metadata": {
        "colab": {
          "base_uri": "https://localhost:8080/"
        },
        "id": "8pAXx52kpzSs",
        "outputId": "5e31c93a-2d63-44ed-b599-047e0c378d39"
      },
      "execution_count": 109,
      "outputs": [
        {
          "output_type": "stream",
          "name": "stdout",
          "text": [
            "College of Engineering, Pune\n"
          ]
        }
      ]
    },
    {
      "cell_type": "code",
      "source": [
        "# get images of keyword\n",
        "print(coep_page.images)"
      ],
      "metadata": {
        "colab": {
          "base_uri": "https://localhost:8080/"
        },
        "id": "JUfZdsC7p-ZE",
        "outputId": "88c4008e-bd4e-446f-bcce-afaa898ac6a4"
      },
      "execution_count": 110,
      "outputs": [
        {
          "output_type": "stream",
          "name": "stdout",
          "text": [
            "['https://upload.wikimedia.org/wikipedia/commons/2/27/Bust_of_Sir_Visvesvarayya_facing_the_College%27s_Main_building.jpg', 'https://upload.wikimedia.org/wikipedia/commons/a/a7/COEP_Date.JPG', 'https://upload.wikimedia.org/wikipedia/commons/4/4e/COEP_Main_building.JPG', 'https://upload.wikimedia.org/wikipedia/commons/c/ca/College_of_Engineering%2C_Pune_Auditorium_%28Stage_View%29.jpg', 'https://upload.wikimedia.org/wikipedia/commons/c/ca/People_at_83rd_Regatta.jpg', 'https://upload.wikimedia.org/wikipedia/commons/6/63/Pune_ShaniwarWada_DelhiGate.jpg', 'https://upload.wikimedia.org/wikipedia/commons/0/04/The_Mind-Spark_Champion%27s_Trophy.jpg', 'https://upload.wikimedia.org/wikipedia/en/f/f0/College_of_Engineering%2C_Pune_logo.jpg', 'https://upload.wikimedia.org/wikipedia/en/4/41/Flag_of_India.svg']\n"
          ]
        }
      ]
    },
    {
      "cell_type": "code",
      "source": [
        "# the tables on the page will be stored as list\n",
        "# and can be converttd by using pandas\n",
        "\n",
        "coep_html = wk.page(\"College Of Engineering Pune\").html().encode(\"UTF-8\")\n",
        "coep_html\n",
        "import pandas as pd\n",
        "coep_df = pd.read_html(coep_html)[4]\n",
        "coep_df"
      ],
      "metadata": {
        "colab": {
          "base_uri": "https://localhost:8080/",
          "height": 0
        },
        "id": "LSwCxX9HqIp-",
        "outputId": "3a6d1585-91d5-4af4-ef51-6b0c3d0bf366"
      },
      "execution_count": 111,
      "outputs": [
        {
          "output_type": "execute_result",
          "data": {
            "text/html": [
              "\n",
              "  <div id=\"df-bc8946f9-f7c5-4642-a229-ef9ae8a301a6\">\n",
              "    <div class=\"colab-df-container\">\n",
              "      <div>\n",
              "<style scoped>\n",
              "    .dataframe tbody tr th:only-of-type {\n",
              "        vertical-align: middle;\n",
              "    }\n",
              "\n",
              "    .dataframe tbody tr th {\n",
              "        vertical-align: top;\n",
              "    }\n",
              "\n",
              "    .dataframe thead th {\n",
              "        text-align: right;\n",
              "    }\n",
              "</style>\n",
              "<table border=\"1\" class=\"dataframe\">\n",
              "  <thead>\n",
              "    <tr style=\"text-align: right;\">\n",
              "      <th></th>\n",
              "      <th>0</th>\n",
              "      <th>1</th>\n",
              "    </tr>\n",
              "  </thead>\n",
              "  <tbody>\n",
              "    <tr>\n",
              "      <th>0</th>\n",
              "      <td>Palaces and forts</td>\n",
              "      <td>Shaniwar Wada Vishrambaug Wada Shinde Chhatri ...</td>\n",
              "    </tr>\n",
              "    <tr>\n",
              "      <th>1</th>\n",
              "      <td>Temples</td>\n",
              "      <td>Puneshwar Narayaneshwar Pataleshwar Kasba Gana...</td>\n",
              "    </tr>\n",
              "    <tr>\n",
              "      <th>2</th>\n",
              "      <td>Museums</td>\n",
              "      <td>Raja Dinkar Kelkar Museum Mahatma Phule Museum...</td>\n",
              "    </tr>\n",
              "    <tr>\n",
              "      <th>3</th>\n",
              "      <td>Parks</td>\n",
              "      <td>Bund Garden Rajiv Gandhi Zoological Park Shuny...</td>\n",
              "    </tr>\n",
              "    <tr>\n",
              "      <th>4</th>\n",
              "      <td>Others</td>\n",
              "      <td>Bal Gandharva Ranga Mandir Tilak Smarak Ranga ...</td>\n",
              "    </tr>\n",
              "  </tbody>\n",
              "</table>\n",
              "</div>\n",
              "      <button class=\"colab-df-convert\" onclick=\"convertToInteractive('df-bc8946f9-f7c5-4642-a229-ef9ae8a301a6')\"\n",
              "              title=\"Convert this dataframe to an interactive table.\"\n",
              "              style=\"display:none;\">\n",
              "        \n",
              "  <svg xmlns=\"http://www.w3.org/2000/svg\" height=\"24px\"viewBox=\"0 0 24 24\"\n",
              "       width=\"24px\">\n",
              "    <path d=\"M0 0h24v24H0V0z\" fill=\"none\"/>\n",
              "    <path d=\"M18.56 5.44l.94 2.06.94-2.06 2.06-.94-2.06-.94-.94-2.06-.94 2.06-2.06.94zm-11 1L8.5 8.5l.94-2.06 2.06-.94-2.06-.94L8.5 2.5l-.94 2.06-2.06.94zm10 10l.94 2.06.94-2.06 2.06-.94-2.06-.94-.94-2.06-.94 2.06-2.06.94z\"/><path d=\"M17.41 7.96l-1.37-1.37c-.4-.4-.92-.59-1.43-.59-.52 0-1.04.2-1.43.59L10.3 9.45l-7.72 7.72c-.78.78-.78 2.05 0 2.83L4 21.41c.39.39.9.59 1.41.59.51 0 1.02-.2 1.41-.59l7.78-7.78 2.81-2.81c.8-.78.8-2.07 0-2.86zM5.41 20L4 18.59l7.72-7.72 1.47 1.35L5.41 20z\"/>\n",
              "  </svg>\n",
              "      </button>\n",
              "      \n",
              "  <style>\n",
              "    .colab-df-container {\n",
              "      display:flex;\n",
              "      flex-wrap:wrap;\n",
              "      gap: 12px;\n",
              "    }\n",
              "\n",
              "    .colab-df-convert {\n",
              "      background-color: #E8F0FE;\n",
              "      border: none;\n",
              "      border-radius: 50%;\n",
              "      cursor: pointer;\n",
              "      display: none;\n",
              "      fill: #1967D2;\n",
              "      height: 32px;\n",
              "      padding: 0 0 0 0;\n",
              "      width: 32px;\n",
              "    }\n",
              "\n",
              "    .colab-df-convert:hover {\n",
              "      background-color: #E2EBFA;\n",
              "      box-shadow: 0px 1px 2px rgba(60, 64, 67, 0.3), 0px 1px 3px 1px rgba(60, 64, 67, 0.15);\n",
              "      fill: #174EA6;\n",
              "    }\n",
              "\n",
              "    [theme=dark] .colab-df-convert {\n",
              "      background-color: #3B4455;\n",
              "      fill: #D2E3FC;\n",
              "    }\n",
              "\n",
              "    [theme=dark] .colab-df-convert:hover {\n",
              "      background-color: #434B5C;\n",
              "      box-shadow: 0px 1px 3px 1px rgba(0, 0, 0, 0.15);\n",
              "      filter: drop-shadow(0px 1px 2px rgba(0, 0, 0, 0.3));\n",
              "      fill: #FFFFFF;\n",
              "    }\n",
              "  </style>\n",
              "\n",
              "      <script>\n",
              "        const buttonEl =\n",
              "          document.querySelector('#df-bc8946f9-f7c5-4642-a229-ef9ae8a301a6 button.colab-df-convert');\n",
              "        buttonEl.style.display =\n",
              "          google.colab.kernel.accessAllowed ? 'block' : 'none';\n",
              "\n",
              "        async function convertToInteractive(key) {\n",
              "          const element = document.querySelector('#df-bc8946f9-f7c5-4642-a229-ef9ae8a301a6');\n",
              "          const dataTable =\n",
              "            await google.colab.kernel.invokeFunction('convertToInteractive',\n",
              "                                                     [key], {});\n",
              "          if (!dataTable) return;\n",
              "\n",
              "          const docLinkHtml = 'Like what you see? Visit the ' +\n",
              "            '<a target=\"_blank\" href=https://colab.research.google.com/notebooks/data_table.ipynb>data table notebook</a>'\n",
              "            + ' to learn more about interactive tables.';\n",
              "          element.innerHTML = '';\n",
              "          dataTable['output_type'] = 'display_data';\n",
              "          await google.colab.output.renderOutput(dataTable, element);\n",
              "          const docLink = document.createElement('div');\n",
              "          docLink.innerHTML = docLinkHtml;\n",
              "          element.appendChild(docLink);\n",
              "        }\n",
              "      </script>\n",
              "    </div>\n",
              "  </div>\n",
              "  "
            ],
            "text/plain": [
              "                   0                                                  1\n",
              "0  Palaces and forts  Shaniwar Wada Vishrambaug Wada Shinde Chhatri ...\n",
              "1            Temples  Puneshwar Narayaneshwar Pataleshwar Kasba Gana...\n",
              "2            Museums  Raja Dinkar Kelkar Museum Mahatma Phule Museum...\n",
              "3              Parks  Bund Garden Rajiv Gandhi Zoological Park Shuny...\n",
              "4             Others  Bal Gandharva Ranga Mandir Tilak Smarak Ranga ..."
            ]
          },
          "metadata": {},
          "execution_count": 111
        }
      ]
    },
    {
      "cell_type": "markdown",
      "source": [
        "# Basic Pandas"
      ],
      "metadata": {
        "id": "fa2TwCtU6rxv"
      }
    },
    {
      "cell_type": "code",
      "source": [
        "from google.colab import drive\n",
        "drive.mount('/content/drive')"
      ],
      "metadata": {
        "id": "H22wozdlqdmi",
        "colab": {
          "base_uri": "https://localhost:8080/"
        },
        "outputId": "0a1c086c-6303-4b47-c2c5-c0449bf9f9c3"
      },
      "execution_count": 112,
      "outputs": [
        {
          "output_type": "stream",
          "name": "stdout",
          "text": [
            "Drive already mounted at /content/drive; to attempt to forcibly remount, call drive.mount(\"/content/drive\", force_remount=True).\n"
          ]
        }
      ]
    },
    {
      "cell_type": "code",
      "source": [
        "excel_file = '/content/drive/MyDrive/Colab Notebooks/Diploma/Data Sets/IFCB2009_85.xlsx'\n",
        "excel_file_df = pd.read_excel(excel_file)\n",
        "excel_file_df.head()"
      ],
      "metadata": {
        "id": "1jc7QtijRk1J",
        "colab": {
          "base_uri": "https://localhost:8080/",
          "height": 0
        },
        "outputId": "680ccadf-136b-496a-fd74-88a4542c9745"
      },
      "execution_count": 113,
      "outputs": [
        {
          "output_type": "execute_result",
          "data": {
            "text/html": [
              "\n",
              "  <div id=\"df-1684fd76-0251-4c92-8ccf-76b735ad5b65\">\n",
              "    <div class=\"colab-df-container\">\n",
              "      <div>\n",
              "<style scoped>\n",
              "    .dataframe tbody tr th:only-of-type {\n",
              "        vertical-align: middle;\n",
              "    }\n",
              "\n",
              "    .dataframe tbody tr th {\n",
              "        vertical-align: top;\n",
              "    }\n",
              "\n",
              "    .dataframe thead th {\n",
              "        text-align: right;\n",
              "    }\n",
              "</style>\n",
              "<table border=\"1\" class=\"dataframe\">\n",
              "  <thead>\n",
              "    <tr style=\"text-align: right;\">\n",
              "      <th></th>\n",
              "      <th>BANK</th>\n",
              "      <th>IFSC</th>\n",
              "      <th>BRANCH</th>\n",
              "      <th>ADDRESS</th>\n",
              "      <th>CITY 1</th>\n",
              "      <th>CITY2</th>\n",
              "      <th>STATE</th>\n",
              "      <th>PHONE</th>\n",
              "    </tr>\n",
              "  </thead>\n",
              "  <tbody>\n",
              "    <tr>\n",
              "      <th>0</th>\n",
              "      <td>LAXMI VILAS BANK</td>\n",
              "      <td>LAVB0000101</td>\n",
              "      <td>CHENNAI ZO</td>\n",
              "      <td>189,IST FLOOR,AARTHI CHAMBERS, ANNASALAI,CHENN...</td>\n",
              "      <td>CHENNAI</td>\n",
              "      <td>CHENNAI</td>\n",
              "      <td>TAMIL NADU</td>\n",
              "      <td>0</td>\n",
              "    </tr>\n",
              "    <tr>\n",
              "      <th>1</th>\n",
              "      <td>LAXMI VILAS BANK</td>\n",
              "      <td>LAVB0000102</td>\n",
              "      <td>ACCOUNTS DEPT</td>\n",
              "      <td>ADMINISTRATIVE OFFICE,NO2,SALEM MAIN ROAD,KATH...</td>\n",
              "      <td>KARUR</td>\n",
              "      <td>KARUR</td>\n",
              "      <td>TAMIL NADU</td>\n",
              "      <td>0</td>\n",
              "    </tr>\n",
              "    <tr>\n",
              "      <th>2</th>\n",
              "      <td>LAXMI VILAS BANK</td>\n",
              "      <td>LAVB0000103</td>\n",
              "      <td>ADONI</td>\n",
              "      <td>12 BY 510 MUNICIPAL MAIN ROAD P B NO 17ADONI 5...</td>\n",
              "      <td>KURNOOL</td>\n",
              "      <td>ADONI</td>\n",
              "      <td>ANDHRA PRADESH</td>\n",
              "      <td>252427</td>\n",
              "    </tr>\n",
              "    <tr>\n",
              "      <th>3</th>\n",
              "      <td>LAXMI VILAS BANK</td>\n",
              "      <td>LAVB0000104</td>\n",
              "      <td>AMBUR</td>\n",
              "      <td>NO 87, BROAD BAZAARP B NO 35 AMBUR635802 VELLORE</td>\n",
              "      <td>VELLORE</td>\n",
              "      <td>AMBUR</td>\n",
              "      <td>TAMIL NADU</td>\n",
              "      <td>242126</td>\n",
              "    </tr>\n",
              "    <tr>\n",
              "      <th>4</th>\n",
              "      <td>LAXMI VILAS BANK</td>\n",
              "      <td>LAVB0000105</td>\n",
              "      <td>ANBIL</td>\n",
              "      <td>2 BY 237,MAIN ROAD MANGAMMALPURAM,ANBIL 621 70...</td>\n",
              "      <td>TIRUCHIRAPALLI</td>\n",
              "      <td>LALGUDI</td>\n",
              "      <td>TAMIL NADU</td>\n",
              "      <td>2541287</td>\n",
              "    </tr>\n",
              "  </tbody>\n",
              "</table>\n",
              "</div>\n",
              "      <button class=\"colab-df-convert\" onclick=\"convertToInteractive('df-1684fd76-0251-4c92-8ccf-76b735ad5b65')\"\n",
              "              title=\"Convert this dataframe to an interactive table.\"\n",
              "              style=\"display:none;\">\n",
              "        \n",
              "  <svg xmlns=\"http://www.w3.org/2000/svg\" height=\"24px\"viewBox=\"0 0 24 24\"\n",
              "       width=\"24px\">\n",
              "    <path d=\"M0 0h24v24H0V0z\" fill=\"none\"/>\n",
              "    <path d=\"M18.56 5.44l.94 2.06.94-2.06 2.06-.94-2.06-.94-.94-2.06-.94 2.06-2.06.94zm-11 1L8.5 8.5l.94-2.06 2.06-.94-2.06-.94L8.5 2.5l-.94 2.06-2.06.94zm10 10l.94 2.06.94-2.06 2.06-.94-2.06-.94-.94-2.06-.94 2.06-2.06.94z\"/><path d=\"M17.41 7.96l-1.37-1.37c-.4-.4-.92-.59-1.43-.59-.52 0-1.04.2-1.43.59L10.3 9.45l-7.72 7.72c-.78.78-.78 2.05 0 2.83L4 21.41c.39.39.9.59 1.41.59.51 0 1.02-.2 1.41-.59l7.78-7.78 2.81-2.81c.8-.78.8-2.07 0-2.86zM5.41 20L4 18.59l7.72-7.72 1.47 1.35L5.41 20z\"/>\n",
              "  </svg>\n",
              "      </button>\n",
              "      \n",
              "  <style>\n",
              "    .colab-df-container {\n",
              "      display:flex;\n",
              "      flex-wrap:wrap;\n",
              "      gap: 12px;\n",
              "    }\n",
              "\n",
              "    .colab-df-convert {\n",
              "      background-color: #E8F0FE;\n",
              "      border: none;\n",
              "      border-radius: 50%;\n",
              "      cursor: pointer;\n",
              "      display: none;\n",
              "      fill: #1967D2;\n",
              "      height: 32px;\n",
              "      padding: 0 0 0 0;\n",
              "      width: 32px;\n",
              "    }\n",
              "\n",
              "    .colab-df-convert:hover {\n",
              "      background-color: #E2EBFA;\n",
              "      box-shadow: 0px 1px 2px rgba(60, 64, 67, 0.3), 0px 1px 3px 1px rgba(60, 64, 67, 0.15);\n",
              "      fill: #174EA6;\n",
              "    }\n",
              "\n",
              "    [theme=dark] .colab-df-convert {\n",
              "      background-color: #3B4455;\n",
              "      fill: #D2E3FC;\n",
              "    }\n",
              "\n",
              "    [theme=dark] .colab-df-convert:hover {\n",
              "      background-color: #434B5C;\n",
              "      box-shadow: 0px 1px 3px 1px rgba(0, 0, 0, 0.15);\n",
              "      filter: drop-shadow(0px 1px 2px rgba(0, 0, 0, 0.3));\n",
              "      fill: #FFFFFF;\n",
              "    }\n",
              "  </style>\n",
              "\n",
              "      <script>\n",
              "        const buttonEl =\n",
              "          document.querySelector('#df-1684fd76-0251-4c92-8ccf-76b735ad5b65 button.colab-df-convert');\n",
              "        buttonEl.style.display =\n",
              "          google.colab.kernel.accessAllowed ? 'block' : 'none';\n",
              "\n",
              "        async function convertToInteractive(key) {\n",
              "          const element = document.querySelector('#df-1684fd76-0251-4c92-8ccf-76b735ad5b65');\n",
              "          const dataTable =\n",
              "            await google.colab.kernel.invokeFunction('convertToInteractive',\n",
              "                                                     [key], {});\n",
              "          if (!dataTable) return;\n",
              "\n",
              "          const docLinkHtml = 'Like what you see? Visit the ' +\n",
              "            '<a target=\"_blank\" href=https://colab.research.google.com/notebooks/data_table.ipynb>data table notebook</a>'\n",
              "            + ' to learn more about interactive tables.';\n",
              "          element.innerHTML = '';\n",
              "          dataTable['output_type'] = 'display_data';\n",
              "          await google.colab.output.renderOutput(dataTable, element);\n",
              "          const docLink = document.createElement('div');\n",
              "          docLink.innerHTML = docLinkHtml;\n",
              "          element.appendChild(docLink);\n",
              "        }\n",
              "      </script>\n",
              "    </div>\n",
              "  </div>\n",
              "  "
            ],
            "text/plain": [
              "              BANK          IFSC  ...           STATE    PHONE\n",
              "0  LAXMI VILAS BANK  LAVB0000101  ...      TAMIL NADU        0\n",
              "1  LAXMI VILAS BANK  LAVB0000102  ...      TAMIL NADU        0\n",
              "2  LAXMI VILAS BANK  LAVB0000103  ...  ANDHRA PRADESH   252427\n",
              "3  LAXMI VILAS BANK  LAVB0000104  ...      TAMIL NADU   242126\n",
              "4  LAXMI VILAS BANK  LAVB0000105  ...      TAMIL NADU  2541287\n",
              "\n",
              "[5 rows x 8 columns]"
            ]
          },
          "metadata": {},
          "execution_count": 113
        }
      ]
    },
    {
      "cell_type": "code",
      "source": [
        "excel_file_df.shape"
      ],
      "metadata": {
        "id": "XR0UXaJRSHDj",
        "colab": {
          "base_uri": "https://localhost:8080/"
        },
        "outputId": "fb38dcd3-2109-41c0-9baa-fec2bdff634e"
      },
      "execution_count": 114,
      "outputs": [
        {
          "output_type": "execute_result",
          "data": {
            "text/plain": [
              "(601, 8)"
            ]
          },
          "metadata": {},
          "execution_count": 114
        }
      ]
    },
    {
      "cell_type": "code",
      "source": [
        "excel_file_df['CITY 1'].value_counts()"
      ],
      "metadata": {
        "id": "zkCin2PPS1Bx",
        "colab": {
          "base_uri": "https://localhost:8080/"
        },
        "outputId": "ee0ba8a4-45d4-45d3-bdfd-21f56c76c283"
      },
      "execution_count": 115,
      "outputs": [
        {
          "output_type": "execute_result",
          "data": {
            "text/plain": [
              "CHENNAI            41\n",
              "COIMBATORE         29\n",
              "SALEM              22\n",
              "ERODE              21\n",
              "KARUR              21\n",
              "                   ..\n",
              "MANCHERIAL          1\n",
              "BAGALKOT            1\n",
              "JAYASHANKAR         1\n",
              "PURBI SINGHBHUM     1\n",
              "PONDICHERRY         1\n",
              "Name: CITY 1, Length: 173, dtype: int64"
            ]
          },
          "metadata": {},
          "execution_count": 115
        }
      ]
    },
    {
      "cell_type": "code",
      "source": [
        "locator = Nominatim(user_agent=\"http\")\n",
        "location = locator.geocode('CHENNAI')\n",
        "print(\"Latitude = {}, Longitude = {}\".format(location.latitude, location.longitude))"
      ],
      "metadata": {
        "id": "MRFCsG2FTNG8",
        "colab": {
          "base_uri": "https://localhost:8080/"
        },
        "outputId": "dba8bc33-1791-4367-8e09-c04bad3ec0b7"
      },
      "execution_count": 116,
      "outputs": [
        {
          "output_type": "stream",
          "name": "stdout",
          "text": [
            "Latitude = 13.0836939, Longitude = 80.270186\n"
          ]
        }
      ]
    },
    {
      "cell_type": "code",
      "source": [
        ""
      ],
      "metadata": {
        "id": "WPJD81YEUhqZ"
      },
      "execution_count": 116,
      "outputs": []
    },
    {
      "cell_type": "markdown",
      "source": [
        "# Scraping PDFs"
      ],
      "metadata": {
        "id": "wdodXv1yJMlZ"
      }
    },
    {
      "cell_type": "code",
      "source": [
        "import os\n",
        "!pip install tabula-py\n",
        "import tabula\n",
        "import urllib.request\n",
        "from urllib.parse import urljoin\n",
        "url = 'https://www.premierleague.com/publications'\n",
        "\n",
        "# Specify the folder for the files to be downloaded\n",
        "folder_loc = r'/content/drive/MyDrive/Colab Notebooks/Diploma/Tools in Data Science/Premier_League'\n",
        "\n",
        "# if not os.path.exists(folder_loc):\n",
        "#     os.mkdir(folder_loc)"
      ],
      "metadata": {
        "id": "V9YcNyMmJSQE"
      },
      "execution_count": null,
      "outputs": []
    },
    {
      "cell_type": "markdown",
      "source": [
        "Actual Code"
      ],
      "metadata": {
        "id": "UCl4Gvw6LZGq"
      }
    },
    {
      "cell_type": "code",
      "source": [
        "response = requests.get(url)\n",
        "soup = bs(response.text, 'html.parser')\n",
        "\n",
        "# extract all tags that end in .pdf\n",
        "for link in soup.select('a[href$=\".pdf\"]'):\n",
        "    # Name of the file to be downloaded\n",
        "    filename = os.path.join(folder_loc, link['href'].split('/')[-1])\n",
        "    print(filename)\n",
        "    with open(filename, 'wb') as f:\n",
        "        f.write(requests.get(urljoin(url, link['href'])).content)"
      ],
      "metadata": {
        "id": "SKQ7uOKBLeBA"
      },
      "execution_count": null,
      "outputs": []
    },
    {
      "cell_type": "markdown",
      "source": [
        "Read table from file and export it to PDF"
      ],
      "metadata": {
        "id": "288-ZL27aO9R"
      }
    },
    {
      "cell_type": "code",
      "source": [
        "import tabula\n",
        "df = tabula.read_pdf(folder_loc + '/This-is-PL-Interactive-Combined.pdf', pages='18')\n",
        "df"
      ],
      "metadata": {
        "id": "FNRTohhbUnuK",
        "colab": {
          "base_uri": "https://localhost:8080/"
        },
        "outputId": "bc7455d0-1e28-45f4-fde8-ff3cfbfbdb70"
      },
      "execution_count": 49,
      "outputs": [
        {
          "output_type": "execute_result",
          "data": {
            "text/plain": [
              "[                                           Unnamed: 0  ... Total payment\n",
              " 0                                                 NaN  ...       £149.4m\n",
              " 1                                                 NaN  ...       £149.8m\n",
              " 2                                                 NaN  ...       £144.4m\n",
              " 3                                                 NaN  ...       £145.9m\n",
              " 4                                                 NaN  ...       £141.7m\n",
              " 5                                                 NaN  ...       £142.0m\n",
              " 6                                                 NaN  ...       £119.8m\n",
              " 7                                                 NaN  ...       £128.0m\n",
              " 8                                                 NaN  ...       £118.2m\n",
              " 9                                               £100m  ...       £123.0m\n",
              " 10                                                NaN  ...           NaN\n",
              " 11                                                NaN  ...           NaN\n",
              " 12                                     The amount the  ...       £114.3m\n",
              " 13                                     Premier League  ...           NaN\n",
              " 14                              invests per season in  ...       £111.2m\n",
              " 15                                 the development of  ...           NaN\n",
              " 16                              community facilities,  ...       £116.1m\n",
              " 17          sports participation, Central payments to  ...           NaN\n",
              " 18                community and schools clubs 2017/18  ...       £106.3m\n",
              " 19  programmes, and to The collective and central ...  ...           NaN\n",
              " 20  support the well-being Premier League markets ...  ...       £107.7m\n",
              " 21                                of players in lower  ...           NaN\n",
              " 22  make using these central payments, leagues. Th...  ...       £102.4m\n",
              " 23  League also supports all of them to not only i...  ...           NaN\n",
              " 24  the English Football talented players and faci...  ...       £107.2m\n",
              " 25  League with a further also their local communi...  ...           NaN\n",
              " 26        £100m per season of wider football pyramid.  ...        £98.5m\n",
              " 27   Solidarity payments The income generated by fans  ...           NaN\n",
              " 28                              and ring-fenced Youth  ...        £98.9m\n",
              " 29  Development grants. watching compelling matche...  ...           NaN\n",
              " 30                  the Premier League is what allows  ...        £94.7m\n",
              " \n",
              " [31 rows x 12 columns]]"
            ]
          },
          "metadata": {},
          "execution_count": 49
        }
      ]
    },
    {
      "cell_type": "code",
      "source": [
        ""
      ],
      "metadata": {
        "id": "3vM7QRPabI-u"
      },
      "execution_count": 49,
      "outputs": []
    }
  ]
}